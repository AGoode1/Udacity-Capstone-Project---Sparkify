{
 "cells": [
  {
   "cell_type": "markdown",
   "metadata": {},
   "source": [
    "# Sparkify Project Workspace\n",
    "This workspace contains a tiny subset (128MB) of the full dataset available (12GB). Feel free to use this workspace to build your project, or to explore a smaller subset with Spark before deploying your cluster on the cloud. Instructions for setting up your Spark cluster is included in the last lesson of the Extracurricular Spark Course content."
   ]
  },
  {
   "cell_type": "code",
   "execution_count": 103,
   "metadata": {},
   "outputs": [],
   "source": [
    "# import libraries\n",
    "import pandas as pd\n",
    "import numpy as np\n",
    "\n",
    "import datetime\n",
    "import matplotlib.pyplot as plt\n",
    "import seaborn as sns\n",
    "\n",
    "from pyspark.sql import Window\n",
    "from pyspark.sql import SparkSession\n",
    "from pyspark.sql.types import IntegerType, StringType\n",
    "from pyspark.sql.functions import desc, floor, first, row_number, asc, sum as Fsum, max as Fmax, avg, udf, isnan, count, col, when\n",
    "\n",
    "from pyspark.ml.feature import VectorAssembler, StandardScaler\n",
    "from pyspark.ml.tuning import CrossValidator, ParamGridBuilder, CrossValidatorModel\n",
    "from pyspark.ml.classification import LogisticRegression, DecisionTreeClassifier, GBTClassifier, RandomForestClassifier\n",
    "from pyspark.ml.evaluation import BinaryClassificationEvaluator, MulticlassClassificationEvaluator\n",
    "\n",
    "from sklearn.metrics import f1_score, accuracy_score\n"
   ]
  },
  {
   "cell_type": "code",
   "execution_count": 104,
   "metadata": {},
   "outputs": [],
   "source": [
    "# create a Spark session\n",
    "spark = SparkSession.builder \\\n",
    "    .master(\"local\") \\\n",
    "    .appName(\"Creating Features\") \\\n",
    "    .getOrCreate()"
   ]
  },
  {
   "cell_type": "markdown",
   "metadata": {},
   "source": [
    "# Load and Clean Dataset\n",
    "In this workspace, the mini-dataset file is `mini_sparkify_event_data.json`. "
   ]
  },
  {
   "cell_type": "code",
   "execution_count": 105,
   "metadata": {},
   "outputs": [],
   "source": [
    "sparkify_data_path = 'mini_sparkify_event_data.json'\n",
    "\n",
    "df = spark.read.json(sparkify_data_path)"
   ]
  },
  {
   "cell_type": "code",
   "execution_count": 106,
   "metadata": {},
   "outputs": [
    {
     "name": "stdout",
     "output_type": "stream",
     "text": [
      "+------+----------+---------+------+-------------+--------+------+-----+--------+------+-----+------------+---------+----+------+-------------+---------+------+\n",
      "|artist|      auth|firstName|gender|itemInSession|lastName|length|level|location|method| page|registration|sessionId|song|status|           ts|userAgent|userId|\n",
      "+------+----------+---------+------+-------------+--------+------+-----+--------+------+-----+------------+---------+----+------+-------------+---------+------+\n",
      "|  null|Logged Out|     null|  null|          100|    null|  null| free|    null|   GET| Home|        null|        8|null|   200|1538355745000|     null|      |\n",
      "|  null|Logged Out|     null|  null|          101|    null|  null| free|    null|   GET| Help|        null|        8|null|   200|1538355807000|     null|      |\n",
      "|  null|Logged Out|     null|  null|          102|    null|  null| free|    null|   GET| Home|        null|        8|null|   200|1538355841000|     null|      |\n",
      "|  null|Logged Out|     null|  null|          103|    null|  null| free|    null|   PUT|Login|        null|        8|null|   307|1538355842000|     null|      |\n",
      "|  null|Logged Out|     null|  null|            2|    null|  null| free|    null|   GET| Home|        null|      240|null|   200|1538356678000|     null|      |\n",
      "+------+----------+---------+------+-------------+--------+------+-----+--------+------+-----+------------+---------+----+------+-------------+---------+------+\n",
      "only showing top 5 rows\n",
      "\n"
     ]
    }
   ],
   "source": [
    "df.where(df.userId==\"\").show(5)"
   ]
  },
  {
   "cell_type": "code",
   "execution_count": 107,
   "metadata": {},
   "outputs": [],
   "source": [
    "#Drop any rows that have a missing userId or sessionId, either with Nan value or empty string. \n",
    "df = df.dropna(how = \"any\", subset = [\"userId\", \"sessionId\"])\n",
    "df = df.filter(df.userId != \"\")"
   ]
  },
  {
   "cell_type": "code",
   "execution_count": 108,
   "metadata": {},
   "outputs": [
    {
     "name": "stdout",
     "output_type": "stream",
     "text": [
      "+-------+------------------+\n",
      "|summary|            userID|\n",
      "+-------+------------------+\n",
      "|  count|               225|\n",
      "|   mean|65391.013333333336|\n",
      "| stddev|105396.47791907164|\n",
      "|    min|                10|\n",
      "|    max|                99|\n",
      "+-------+------------------+\n",
      "\n"
     ]
    },
    {
     "data": {
      "text/plain": [
       "278154"
      ]
     },
     "execution_count": 108,
     "metadata": {},
     "output_type": "execute_result"
    }
   ],
   "source": [
    "df.select([\"userID\"]).dropDuplicates().describe().show()\n",
    "df.count()\n"
   ]
  },
  {
   "cell_type": "markdown",
   "metadata": {},
   "source": [
    "The cleaned data set contains 278,154 rows, and 225 unique customers. "
   ]
  },
  {
   "cell_type": "markdown",
   "metadata": {},
   "source": [
    "# Exploratory Data Analysis\n",
    "\n",
    "### Define Churn\n",
    "\n",
    "Create a column `Churn` to use as the label for your model. I have used the `Cancellation Confirmation` events to define churn, which happen for both paid and free users.\n",
    "\n",
    "### Explore Data"
   ]
  },
  {
   "cell_type": "code",
   "execution_count": 109,
   "metadata": {},
   "outputs": [
    {
     "data": {
      "text/plain": [
       "DataFrame[summary: string, artist: string, auth: string, firstName: string, gender: string, itemInSession: string, lastName: string, length: string, level: string, location: string, method: string, page: string, registration: string, sessionId: string, song: string, status: string, ts: string, userAgent: string, userId: string]"
      ]
     },
     "execution_count": 109,
     "metadata": {},
     "output_type": "execute_result"
    }
   ],
   "source": [
    "df.describe()"
   ]
  },
  {
   "cell_type": "code",
   "execution_count": 110,
   "metadata": {},
   "outputs": [
    {
     "name": "stdout",
     "output_type": "stream",
     "text": [
      "+--------------+---------+---------+------+-------------+--------+---------+-----+---------------+------+---------------+-------------+---------+--------------------+------+-------------+--------------------+------+\n",
      "|        artist|     auth|firstName|gender|itemInSession|lastName|   length|level|       location|method|           page| registration|sessionId|                song|status|           ts|           userAgent|userId|\n",
      "+--------------+---------+---------+------+-------------+--------+---------+-----+---------------+------+---------------+-------------+---------+--------------------+------+-------------+--------------------+------+\n",
      "|Martha Tilston|Logged In|    Colin|     M|           50| Freeman|277.89016| paid|Bakersfield, CA|   PUT|       NextSong|1538173362000|       29|           Rockpools|   200|1538352117000|Mozilla/5.0 (Wind...|    30|\n",
      "|  Adam Lambert|Logged In|    Colin|     M|           51| Freeman| 282.8273| paid|Bakersfield, CA|   PUT|       NextSong|1538173362000|       29|   Time For Miracles|   200|1538352394000|Mozilla/5.0 (Wind...|    30|\n",
      "|     Daft Punk|Logged In|    Colin|     M|           52| Freeman|223.60771| paid|Bakersfield, CA|   PUT|       NextSong|1538173362000|       29|Harder Better Fas...|   200|1538352676000|Mozilla/5.0 (Wind...|    30|\n",
      "|  Starflyer 59|Logged In|    Colin|     M|           53| Freeman|185.44281| paid|Bakersfield, CA|   PUT|       NextSong|1538173362000|       29|Passengers (Old A...|   200|1538352899000|Mozilla/5.0 (Wind...|    30|\n",
      "|          null|Logged In|    Colin|     M|           54| Freeman|     null| paid|Bakersfield, CA|   PUT|Add to Playlist|1538173362000|       29|                null|   200|1538352905000|Mozilla/5.0 (Wind...|    30|\n",
      "+--------------+---------+---------+------+-------------+--------+---------+-----+---------------+------+---------------+-------------+---------+--------------------+------+-------------+--------------------+------+\n",
      "only showing top 5 rows\n",
      "\n"
     ]
    }
   ],
   "source": [
    "df.where(df.userId==30).show(5)"
   ]
  },
  {
   "cell_type": "code",
   "execution_count": 111,
   "metadata": {},
   "outputs": [
    {
     "name": "stdout",
     "output_type": "stream",
     "text": [
      "+--------------------+\n",
      "|                page|\n",
      "+--------------------+\n",
      "|              Cancel|\n",
      "|    Submit Downgrade|\n",
      "|         Thumbs Down|\n",
      "|                Home|\n",
      "|           Downgrade|\n",
      "|         Roll Advert|\n",
      "|              Logout|\n",
      "|       Save Settings|\n",
      "|Cancellation Conf...|\n",
      "|               About|\n",
      "|            Settings|\n",
      "|     Add to Playlist|\n",
      "|          Add Friend|\n",
      "|            NextSong|\n",
      "|           Thumbs Up|\n",
      "|                Help|\n",
      "|             Upgrade|\n",
      "|               Error|\n",
      "|      Submit Upgrade|\n",
      "+--------------------+\n",
      "\n",
      "+-----+\n",
      "|level|\n",
      "+-----+\n",
      "| free|\n",
      "| paid|\n",
      "+-----+\n",
      "\n"
     ]
    }
   ],
   "source": [
    "df.select(\"page\").dropDuplicates().show()\n",
    "df.select(\"level\").dropDuplicates().show()"
   ]
  },
  {
   "cell_type": "code",
   "execution_count": 112,
   "metadata": {},
   "outputs": [
    {
     "name": "stdout",
     "output_type": "stream",
     "text": [
      "+------+-----+---------------+\n",
      "|status|level|           page|\n",
      "+------+-----+---------------+\n",
      "|   200| paid|       NextSong|\n",
      "|   200| paid|       NextSong|\n",
      "|   200| paid|       NextSong|\n",
      "|   200| paid|       NextSong|\n",
      "|   200| paid|Add to Playlist|\n",
      "|   200| paid|       NextSong|\n",
      "|   200| paid|       NextSong|\n",
      "|   200| paid|       NextSong|\n",
      "|   200| paid|       NextSong|\n",
      "|   200| paid|       NextSong|\n",
      "|   200| paid|       NextSong|\n",
      "|   200| paid|       NextSong|\n",
      "|   200| paid|       NextSong|\n",
      "|   200| paid|       NextSong|\n",
      "|   200| paid|       NextSong|\n",
      "|   200| paid|       NextSong|\n",
      "|   200| paid|       NextSong|\n",
      "|   200| paid|       NextSong|\n",
      "|   200| paid|       NextSong|\n",
      "|   200| paid|       NextSong|\n",
      "|   200| paid|       NextSong|\n",
      "|   307| paid|    Thumbs Down|\n",
      "|   200| paid|       NextSong|\n",
      "|   200| paid|       NextSong|\n",
      "|   200| paid|       NextSong|\n",
      "|   200| paid|       NextSong|\n",
      "|   200| paid|       NextSong|\n",
      "|   307| paid|      Thumbs Up|\n",
      "|   200| paid|       NextSong|\n",
      "|   307| paid|      Thumbs Up|\n",
      "+------+-----+---------------+\n",
      "only showing top 30 rows\n",
      "\n"
     ]
    }
   ],
   "source": [
    "#Looking at a customer journey in the data set. \n",
    "df.where(df.userId==30).select([\"status\",\"level\",\"page\"]).show(30)"
   ]
  },
  {
   "cell_type": "code",
   "execution_count": 113,
   "metadata": {},
   "outputs": [],
   "source": [
    "#Creating Churn column. flag_cancelled_event is used to add a binary column marking any cancellation event, \n",
    "#while the window function is used to group by userId and add a customer level column, which is the same for\n",
    "#every row sharing the same userId\n",
    "\n",
    "flag_cancelled_event = udf(lambda x: 1 if x == \"Cancellation Confirmation\" else 0, IntegerType())\n",
    "windowval1 = Window.partitionBy(\"userId\").orderBy(asc(\"ts\")).rangeBetween(Window.unboundedPreceding, Window.unboundedFollowing)\n",
    "\n",
    "df = df.withColumn(\"Cancelled\", flag_cancelled_event(\"page\"))\n",
    "df = df.withColumn(\"Churn\", Fmax(\"Cancelled\").over(windowval1))"
   ]
  },
  {
   "cell_type": "code",
   "execution_count": 114,
   "metadata": {},
   "outputs": [
    {
     "name": "stdout",
     "output_type": "stream",
     "text": [
      "+------+-----+\n",
      "|userId|Churn|\n",
      "+------+-----+\n",
      "|100010|    0|\n",
      "|200002|    0|\n",
      "|   125|    1|\n",
      "|   124|    0|\n",
      "|    51|    1|\n",
      "|     7|    0|\n",
      "|    15|    0|\n",
      "|    54|    1|\n",
      "|   155|    0|\n",
      "|100014|    1|\n",
      "+------+-----+\n",
      "only showing top 10 rows\n",
      "\n"
     ]
    }
   ],
   "source": [
    "df.select(\"userId\",\"Churn\").dropDuplicates().show(10)\n",
    "\n"
   ]
  },
  {
   "cell_type": "code",
   "execution_count": 115,
   "metadata": {},
   "outputs": [],
   "source": [
    "df_NoDowngrade = df.where(df.Churn == 0)\n",
    "df_Downgrade = df.where(df.Churn ==1)"
   ]
  },
  {
   "cell_type": "code",
   "execution_count": 116,
   "metadata": {},
   "outputs": [
    {
     "name": "stdout",
     "output_type": "stream",
     "text": [
      "Number of cancelled customers:  52\n",
      "Number of non cancelled customers:  173\n"
     ]
    }
   ],
   "source": [
    "numCancelledCusts = df_Downgrade.select(\"userId\").dropDuplicates().count()\n",
    "numNonCancelledCusts = df_NoDowngrade.select(\"userId\").dropDuplicates().count()\n",
    "\n",
    "print(\"Number of cancelled customers: \", numCancelledCusts)\n",
    "print(\"Number of non cancelled customers: \", numNonCancelledCusts)"
   ]
  },
  {
   "cell_type": "markdown",
   "metadata": {},
   "source": [
    "Analyse the frequency of each page type in cancelled and non-cancelled users"
   ]
  },
  {
   "cell_type": "code",
   "execution_count": 117,
   "metadata": {},
   "outputs": [
    {
     "data": {
      "text/plain": [
       "<matplotlib.axes._subplots.AxesSubplot at 0x7f42cc14bc50>"
      ]
     },
     "execution_count": 117,
     "metadata": {},
     "output_type": "execute_result"
    },
    {
     "data": {
      "image/png": "[encoded data removed]",
      "text/plain": [
       "<matplotlib.figure.Figure at 0x7f42cc5acc18>"
      ]
     },
     "metadata": {
      "needs_background": "light"
     },
     "output_type": "display_data"
    }
   ],
   "source": [
    "df_NoDowngrade_counts = df_NoDowngrade.groupby(\"page\").count()\n",
    "df_NoDowngrade_countsRate= df_NoDowngrade_counts.\\\n",
    "    withColumn(\"no downgrade countRate\",df_NoDowngrade_counts[\"count\"]/numNonCancelledCusts)\n",
    "\n",
    "df_Downgrade_counts = df_Downgrade.groupby(\"page\").count()\n",
    "df_Downgrade_countsRate= df_Downgrade_counts.withColumn(\"downgrade countRate\",df_Downgrade_counts[\"count\"]/numCancelledCusts)\n",
    "\n",
    "pandas_for_chart = df_NoDowngrade_countsRate.join(df_Downgrade_countsRate, \"page\", \"outer\").drop(\"count\").toPandas().fillna(0)\n",
    "pandas_for_chart.plot.bar(\"page\")"
   ]
  },
  {
   "cell_type": "code",
   "execution_count": 118,
   "metadata": {},
   "outputs": [
    {
     "data": {
      "text/plain": [
       "<matplotlib.axes._subplots.AxesSubplot at 0x7f42cc03dc18>"
      ]
     },
     "execution_count": 118,
     "metadata": {},
     "output_type": "execute_result"
    },
    {
     "data": {
      "image/png": "[encoded data removed]",
      "text/plain": [
       "<matplotlib.figure.Figure at 0x7f42cc03d3c8>"
      ]
     },
     "metadata": {
      "needs_background": "light"
     },
     "output_type": "display_data"
    }
   ],
   "source": [
    "#Replicate the above chart without the NextSong column\n",
    "df_NoDowngrade_countsNoSong = df_NoDowngrade.filter(df_NoDowngrade[\"page\"] != \"NextSong\").groupby(\"page\").count()\n",
    "df_NoDowngrade_countsRateNoSong= df_NoDowngrade_countsNoSong.withColumn(\"no downgrade countRate\",df_NoDowngrade_countsNoSong[\"count\"]/numNonCancelledCusts)\n",
    "\n",
    "df_Downgrade_countsNoSong = df_Downgrade.filter(df_Downgrade.page != \"NextSong\").groupby(\"page\").count()\n",
    "df_Downgrade_countsRateNoSong= df_Downgrade_countsNoSong.withColumn(\"downgrade countRate\",df_Downgrade_countsNoSong[\"count\"]/numCancelledCusts)\n",
    "\n",
    "pandas_for_chart2 = df_NoDowngrade_countsRateNoSong.join(df_Downgrade_countsRateNoSong, \"page\", \"outer\").drop(\"count\").toPandas().fillna(0)\n",
    "pandas_for_chart2.plot.bar(\"page\")"
   ]
  },
  {
   "cell_type": "markdown",
   "metadata": {},
   "source": [
    "Pages of note are Home, Thumbs Up, Add Friend, and Add to Playlist. "
   ]
  },
  {
   "cell_type": "markdown",
   "metadata": {},
   "source": [
    "Customers who didn't cancel tended to play more songs than those who didn't cancel. "
   ]
  },
  {
   "cell_type": "code",
   "execution_count": 119,
   "metadata": {},
   "outputs": [
    {
     "data": {
      "image/png": "[encoded data removed]",
      "text/plain": [
       "<matplotlib.figure.Figure at 0x7f42cc4d66d8>"
      ]
     },
     "metadata": {
      "needs_background": "light"
     },
     "output_type": "display_data"
    }
   ],
   "source": [
    "df_gender = df.select([\"userId\",\"gender\",\"Churn\"]).dropDuplicates().toPandas()\n",
    "#df_gender = df_gender.withColumn(gender_rate)\n",
    "ax = sns.countplot(x = \"Churn\", hue = \"gender\", data = df_gender)"
   ]
  },
  {
   "cell_type": "markdown",
   "metadata": {},
   "source": [
    "There is a bigger difference in gender counts in the set of cancelled customers than in the customers who didn't cancel. "
   ]
  },
  {
   "cell_type": "markdown",
   "metadata": {},
   "source": [
    "#### Feature Engineering"
   ]
  },
  {
   "cell_type": "markdown",
   "metadata": {},
   "source": [
    "The following customer level features will now be created:\n",
    "\n",
    " - Number of songs played in 1, 2, 3, and 4 weeks leading up to the customer's final activity in the data\n",
    " - Number of 'Home' views in 1, 2, 3, and 4 weeks leading up to the customer's final activity in the data\n",
    " - Number of 'Thumbs Up' actions in 1, 2, 3, and 4 weeks leading up to the customer's final activity in the data\n",
    " - Number of 'Add Friend' actions in 1, 2, 3, and 4 weeks leading up to the customer's final activity in the data\n",
    " - Number of songs 'Added to Playlist' actions in 1, 2, 3, and 4 weeks leading up to the customer's final activity in the data\n",
    " - The proportional increase in number of songs played from the fortnight before the last fortnight of data, and the last    fortnight of data\n",
    " - Whether the customer was a paid or free member at their last activity in the dataset\n",
    " - The average length of session a customer has\n",
    " "
   ]
  },
  {
   "cell_type": "code",
   "execution_count": 120,
   "metadata": {},
   "outputs": [],
   "source": [
    "#The UDF functions flag each page event of interest in a separate column. \n",
    "#The window function then sums these columns to get to total count for each userId.\n",
    "\n",
    "flag_nextSong_event = udf(lambda x: 1 if x == \"NextSong\" else 0, IntegerType())\n",
    "df = df.withColumn(\"NextSong\", flag_nextSong_event(\"page\"))\n",
    "\n",
    "flag_Home_event = udf(lambda x: 1 if x == \"Home\" else 0, IntegerType())\n",
    "df = df.withColumn(\"Home\", flag_Home_event(\"page\"))\n",
    "\n",
    "flag_ThumbsUp_event = udf(lambda x: 1 if x == \"Thumbs Up\" else 0, IntegerType())\n",
    "df = df.withColumn(\"ThumbsUp\", flag_ThumbsUp_event(\"page\"))\n",
    "\n",
    "flag_AddFriend_event = udf(lambda x: 1 if x == \"Add Friend\" else 0, IntegerType())\n",
    "df = df.withColumn(\"AddFriend\", flag_AddFriend_event(\"page\"))\n",
    "\n",
    "flag_AddPlaylist_event = udf(lambda x: 1 if x == \"Add to Playlist\" else 0, IntegerType())\n",
    "df = df.withColumn(\"AddPlaylist\", flag_AddPlaylist_event(\"page\"))\n",
    "\n",
    "#This is the same WindowVal as previously used in the notebook\n",
    "windowval_1 = Window.partitionBy(\"userId\").orderBy(asc(\"ts\"))\\\n",
    "                    .rangeBetween(Window.unboundedPreceding, Window.unboundedFollowing)\n",
    "df = df.withColumn(\"songCount\", Fsum(\"NextSong\").over(windowval1))\n",
    "df = df.withColumn(\"homeCount\", Fsum(\"Home\").over(windowval1))\n",
    "df = df.withColumn(\"thumbsUpCount\", Fsum(\"ThumbsUp\").over(windowval1))\n",
    "df = df.withColumn(\"addFriendCount\", Fsum(\"AddFriend\").over(windowval1))\n",
    "df = df.withColumn(\"addPlaylistCount\", Fsum(\"AddPlaylist\").over(windowval1))"
   ]
  },
  {
   "cell_type": "code",
   "execution_count": 121,
   "metadata": {},
   "outputs": [],
   "source": [
    "df = df.withColumn(\"MaxTime\", Fmax(\"ts\").over(windowval1))\n",
    "df = df.withColumn(\"TimeFromEnd\", df.MaxTime - df.ts)"
   ]
  },
  {
   "cell_type": "code",
   "execution_count": 122,
   "metadata": {
    "scrolled": true
   },
   "outputs": [],
   "source": [
    "#Weeks from end is specific for each userId, and is the number of weeks before the userId's last activity. \n",
    "\n",
    "flag_week = udf(lambda x: x/604800000)\n",
    "df  = df.withColumn(\"WeeksFromEnd\", flag_week(\"TimeFromEnd\"))\n",
    "df = df.withColumn(\"WeeksFromEndInt\",floor(df.WeeksFromEnd))"
   ]
  },
  {
   "cell_type": "code",
   "execution_count": 123,
   "metadata": {},
   "outputs": [],
   "source": [
    "#Create a column which is grouped by userId and the week (defined as weeks before the last user activity)\n",
    "#providing a sum of each page activity of interest in that particular week. \n",
    "\n",
    "windowval2 = Window.partitionBy([\"userId\", \"WeeksFromEndInt\"]).orderBy(asc(\"ts\")).rangeBetween(Window.unboundedPreceding, Window.unboundedFollowing)\n",
    "\n",
    "df = df.withColumn(\"songs_in_week\", Fsum(\"NextSong\").over(windowval2))\n",
    "df = df.withColumn(\"home_in_week\", Fsum(\"Home\").over(windowval2))\n",
    "df = df.withColumn(\"thumbsUp_in_week\", Fsum(\"ThumbsUp\").over(windowval2))\n",
    "df = df.withColumn(\"addFriends_in_week\", Fsum(\"AddFriend\").over(windowval2))\n",
    "df = df.withColumn(\"addPlaylist_in_week\", Fsum(\"AddPlaylist\").over(windowval2))"
   ]
  },
  {
   "cell_type": "code",
   "execution_count": 124,
   "metadata": {},
   "outputs": [
    {
     "name": "stdout",
     "output_type": "stream",
     "text": [
      "+--------------------+---------+---------+------+-------------+--------+---------+-----+--------------------+------+---------------+-------------+---------+--------------------+------+-------------+--------------------+------+---------+-----+--------+----+--------+---------+-----------+---------+---------+-------------+--------------+----------------+-------------+-----------+--------------------+---------------+-------------+------------+----------------+------------------+-------------------+\n",
      "|              artist|     auth|firstName|gender|itemInSession|lastName|   length|level|            location|method|           page| registration|sessionId|                song|status|           ts|           userAgent|userId|Cancelled|Churn|NextSong|Home|ThumbsUp|AddFriend|AddPlaylist|songCount|homeCount|thumbsUpCount|addFriendCount|addPlaylistCount|      MaxTime|TimeFromEnd|        WeeksFromEnd|WeeksFromEndInt|songs_in_week|home_in_week|thumbsUp_in_week|addFriends_in_week|addPlaylist_in_week|\n",
      "+--------------------+---------+---------+------+-------------+--------+---------+-----+--------------------+------+---------------+-------------+---------+--------------------+------+-------------+--------------------+------+---------+-----+--------+----+--------+---------+-----------+---------+---------+-------------+--------------+----------------+-------------+-----------+--------------------+---------------+-------------+------------+----------------+------------------+-------------------+\n",
      "|         Bad Company|Logged In|   Samuel|     M|            0|   Green|314.09587| free|Dallas-Fort Worth...|   PUT|       NextSong|1536980520000|     1022|Feel Like Makin' ...|   200|1540957259000|\"Mozilla/5.0 (Mac...|   149|        0|    0|       1|   0|       0|        0|          0|      186|        7|           11|             9|               5|1540970447000|   13188000|0.021805555555555557|              0|           54|           3|               1|                 1|                  3|\n",
      "|           The B-52s|Logged In|   Samuel|     M|            1|   Green|  227.082| free|Dallas-Fort Worth...|   PUT|       NextSong|1536980520000|     1022|Too Much To Think...|   200|1540957573000|\"Mozilla/5.0 (Mac...|   149|        0|    0|       1|   0|       0|        0|          0|      186|        7|           11|             9|               5|1540970447000|   12874000|0.021286375661375662|              0|           54|           3|               1|                 1|                  3|\n",
      "|            Coldplay|Logged In|   Samuel|     M|            2|   Green|234.89261| free|Dallas-Fort Worth...|   PUT|       NextSong|1536980520000|     1022|               Lost!|   200|1540957800000|\"Mozilla/5.0 (Mac...|   149|        0|    0|       1|   0|       0|        0|          0|      186|        7|           11|             9|               5|1540970447000|   12647000|0.020911044973544974|              0|           54|           3|               1|                 1|                  3|\n",
      "|        Chris LeDoux|Logged In|   Samuel|     M|            3|   Green|173.37424| free|Dallas-Fort Worth...|   PUT|       NextSong|1536980520000|     1022|      Cadillac Ranch|   200|1540958034000|\"Mozilla/5.0 (Mac...|   149|        0|    0|       1|   0|       0|        0|          0|      186|        7|           11|             9|               5|1540970447000|   12413000|0.020524140211640212|              0|           54|           3|               1|                 1|                  3|\n",
      "|          Method Man|Logged In|   Samuel|     M|            4|   Green| 31.86893| free|Dallas-Fort Worth...|   PUT|       NextSong|1536980520000|     1022|      Pimpin' (Skit)|   200|1540958207000|\"Mozilla/5.0 (Mac...|   149|        0|    0|       1|   0|       0|        0|          0|      186|        7|           11|             9|               5|1540970447000|   12240000| 0.02023809523809524|              0|           54|           3|               1|                 1|                  3|\n",
      "|                null|Logged In|   Samuel|     M|            5|   Green|     null| free|Dallas-Fort Worth...|   PUT|     Add Friend|1536980520000|     1022|                null|   307|1540958208000|\"Mozilla/5.0 (Mac...|   149|        0|    0|       0|   0|       0|        1|          0|      186|        7|           11|             9|               5|1540970447000|   12239000|  0.0202364417989418|              0|           54|           3|               1|                 1|                  3|\n",
      "|           MC Hammer|Logged In|   Samuel|     M|            6|   Green|238.88934| free|Dallas-Fort Worth...|   PUT|       NextSong|1536980520000|     1022|       Addams Groove|   200|1540958238000|\"Mozilla/5.0 (Mac...|   149|        0|    0|       1|   0|       0|        0|          0|      186|        7|           11|             9|               5|1540970447000|   12209000|0.020186838624338625|              0|           54|           3|               1|                 1|                  3|\n",
      "|The Robert Cray Band|Logged In|   Samuel|     M|            7|   Green|  384.522| free|Dallas-Fort Worth...|   PUT|       NextSong|1536980520000|     1022|Far Away (Album V...|   200|1540958476000|\"Mozilla/5.0 (Mac...|   149|        0|    0|       1|   0|       0|        0|          0|      186|        7|           11|             9|               5|1540970447000|   11971000|0.019793320105820106|              0|           54|           3|               1|                 1|                  3|\n",
      "|    A Perfect Circle|Logged In|   Samuel|     M|            8|   Green|293.22404| free|Dallas-Fort Worth...|   PUT|       NextSong|1536980520000|     1022|           The Noose|   200|1540958860000|\"Mozilla/5.0 (Mac...|   149|        0|    0|       1|   0|       0|        0|          0|      186|        7|           11|             9|               5|1540970447000|   11587000|0.019158399470899472|              0|           54|           3|               1|                 1|                  3|\n",
      "|                null|Logged In|   Samuel|     M|            9|   Green|     null| free|Dallas-Fort Worth...|   GET|    Roll Advert|1536980520000|     1022|                null|   200|1540958939000|\"Mozilla/5.0 (Mac...|   149|        0|    0|       0|   0|       0|        0|          0|      186|        7|           11|             9|               5|1540970447000|   11508000| 0.01902777777777778|              0|           54|           3|               1|                 1|                  3|\n",
      "|       Chris Cornell|Logged In|   Samuel|     M|           10|   Green| 213.9424| free|Dallas-Fort Worth...|   PUT|       NextSong|1536980520000|     1022|Arms Around Your ...|   200|1540959153000|\"Mozilla/5.0 (Mac...|   149|        0|    0|       1|   0|       0|        0|          0|      186|        7|           11|             9|               5|1540970447000|   11294000|0.018673941798941798|              0|           54|           3|               1|                 1|                  3|\n",
      "|                null|Logged In|   Samuel|     M|           11|   Green|     null| free|Dallas-Fort Worth...|   PUT|Add to Playlist|1536980520000|     1022|                null|   200|1540959220000|\"Mozilla/5.0 (Mac...|   149|        0|    0|       0|   0|       0|        0|          1|      186|        7|           11|             9|               5|1540970447000|   11227000|0.018563161375661375|              0|           54|           3|               1|                 1|                  3|\n",
      "|              Weezer|Logged In|   Samuel|     M|           12|   Green|189.43955| free|Dallas-Fort Worth...|   PUT|       NextSong|1536980520000|     1022|      Pork And Beans|   200|1540959366000|\"Mozilla/5.0 (Mac...|   149|        0|    0|       1|   0|       0|        0|          0|      186|        7|           11|             9|               5|1540970447000|   11081000| 0.01832175925925926|              0|           54|           3|               1|                 1|                  3|\n",
      "|             Incubus|Logged In|   Samuel|     M|           13|   Green|257.25342| free|Dallas-Fort Worth...|   PUT|       NextSong|1536980520000|     1022|                 Dig|   200|1540959555000|\"Mozilla/5.0 (Mac...|   149|        0|    0|       1|   0|       0|        0|          0|      186|        7|           11|             9|               5|1540970447000|   10892000| 0.01800925925925926|              0|           54|           3|               1|                 1|                  3|\n",
      "|                null|Logged In|   Samuel|     M|           14|   Green|     null| free|Dallas-Fort Worth...|   GET|    Roll Advert|1536980520000|     1022|                null|   200|1540959583000|\"Mozilla/5.0 (Mac...|   149|        0|    0|       0|   0|       0|        0|          0|      186|        7|           11|             9|               5|1540970447000|   10864000|0.017962962962962962|              0|           54|           3|               1|                 1|                  3|\n",
      "|   MÃÂ´nica Salmaso|Logged In|   Samuel|     M|           15|   Green|146.20689| free|Dallas-Fort Worth...|   PUT|       NextSong|1536980520000|     1022|            Logo Eu?|   200|1540959812000|\"Mozilla/5.0 (Mac...|   149|        0|    0|       1|   0|       0|        0|          0|      186|        7|           11|             9|               5|1540970447000|   10635000|0.017584325396825397|              0|           54|           3|               1|                 1|                  3|\n",
      "|       Mark Knopfler|Logged In|   Samuel|     M|           16|   Green|366.41914| free|Dallas-Fort Worth...|   PUT|       NextSong|1536980520000|     1022|             Rudiger|   200|1540959958000|\"Mozilla/5.0 (Mac...|   149|        0|    0|       1|   0|       0|        0|          0|      186|        7|           11|             9|               5|1540970447000|   10489000| 0.01734292328042328|              0|           54|           3|               1|                 1|                  3|\n",
      "|               Doves|Logged In|   Samuel|     M|           17|   Green|414.11873| free|Dallas-Fort Worth...|   PUT|       NextSong|1536980520000|     1022| There Goes The Fear|   200|1540960324000|\"Mozilla/5.0 (Mac...|   149|        0|    0|       1|   0|       0|        0|          0|      186|        7|           11|             9|               5|1540970447000|   10123000| 0.01673776455026455|              0|           54|           3|               1|                 1|                  3|\n",
      "|       Michael Nyman|Logged In|   Samuel|     M|           18|   Green|345.12934| free|Dallas-Fort Worth...|   PUT|       NextSong|1536980520000|     1022|            Disaster|   200|1540960738000|\"Mozilla/5.0 (Mac...|   149|        0|    0|       1|   0|       0|        0|          0|      186|        7|           11|             9|               5|1540970447000|    9709000| 0.01605324074074074|              0|           54|           3|               1|                 1|                  3|\n",
      "|                null|Logged In|   Samuel|     M|           19|   Green|     null| free|Dallas-Fort Worth...|   GET|           Home|1536980520000|     1022|                null|   200|1540960741000|\"Mozilla/5.0 (Mac...|   149|        0|    0|       0|   1|       0|        0|          0|      186|        7|           11|             9|               5|1540970447000|    9706000|0.016048280423280423|              0|           54|           3|               1|                 1|                  3|\n",
      "|          John Mayer|Logged In|   Samuel|     M|           20|   Green|268.09424| free|Dallas-Fort Worth...|   PUT|       NextSong|1536980520000|     1022|    Perfectly Lonely|   200|1540961083000|\"Mozilla/5.0 (Mac...|   149|        0|    0|       1|   0|       0|        0|          0|      186|        7|           11|             9|               5|1540970447000|    9364000|0.015482804232804234|              0|           54|           3|               1|                 1|                  3|\n",
      "|          Timbiriche|Logged In|   Samuel|     M|           21|   Green|251.53261| free|Dallas-Fort Worth...|   PUT|       NextSong|1536980520000|     1022|   Princesa Tibetana|   200|1540961351000|\"Mozilla/5.0 (Mac...|   149|        0|    0|       1|   0|       0|        0|          0|      186|        7|           11|             9|               5|1540970447000|    9096000| 0.01503968253968254|              0|           54|           3|               1|                 1|                  3|\n",
      "|Shakira Featuring...|Logged In|   Samuel|     M|           22|   Green|217.36444| free|Dallas-Fort Worth...|   PUT|       NextSong|1536980520000|     1022|Hips Don't Lie (f...|   200|1540961602000|\"Mozilla/5.0 (Mac...|   149|        0|    0|       1|   0|       0|        0|          0|      186|        7|           11|             9|               5|1540970447000|    8845000|0.014624669312169313|              0|           54|           3|               1|                 1|                  3|\n",
      "|                T.I.|Logged In|   Samuel|     M|           23|   Green|327.65342| free|Dallas-Fort Worth...|   PUT|       NextSong|1536980520000|     1022|Swagga Like Us [T...|   200|1540961819000|\"Mozilla/5.0 (Mac...|   149|        0|    0|       1|   0|       0|        0|          0|      186|        7|           11|             9|               5|1540970447000|    8628000|0.014265873015873017|              0|           54|           3|               1|                 1|                  3|\n",
      "|Jason Isbell and ...|Logged In|   Samuel|     M|           24|   Green|257.56689| free|Dallas-Fort Worth...|   PUT|       NextSong|1536980520000|     1022|        However Long|   200|1540962146000|\"Mozilla/5.0 (Mac...|   149|        0|    0|       1|   0|       0|        0|          0|      186|        7|           11|             9|               5|1540970447000|    8301000|0.013725198412698413|              0|           54|           3|               1|                 1|                  3|\n",
      "+--------------------+---------+---------+------+-------------+--------+---------+-----+--------------------+------+---------------+-------------+---------+--------------------+------+-------------+--------------------+------+---------+-----+--------+----+--------+---------+-----------+---------+---------+-------------+--------------+----------------+-------------+-----------+--------------------+---------------+-------------+------------+----------------+------------------+-------------------+\n",
      "only showing top 25 rows\n",
      "\n"
     ]
    }
   ],
   "source": [
    "df.show(25)"
   ]
  },
  {
   "cell_type": "code",
   "execution_count": 125,
   "metadata": {},
   "outputs": [
    {
     "name": "stdout",
     "output_type": "stream",
     "text": [
      "+------+------------------+\n",
      "|userId|     avgSessionLen|\n",
      "+------+------------------+\n",
      "|100010| 54.42857142857143|\n",
      "|200002|              80.0|\n",
      "|   125|              10.0|\n",
      "|   124|170.13793103448276|\n",
      "|    51|             251.9|\n",
      "|     7|28.428571428571427|\n",
      "|    15|154.86666666666667|\n",
      "|    54| 94.21621621621621|\n",
      "|   155|171.66666666666666|\n",
      "|100014|51.833333333333336|\n",
      "+------+------------------+\n",
      "only showing top 10 rows\n",
      "\n"
     ]
    }
   ],
   "source": [
    "windowval3 = Window.partitionBy(\"userId\",\"sessionId\").orderBy(desc(\"ts\"))\\\n",
    "                   .rangeBetween(Window.unboundedPreceding, Window.unboundedFollowing)\n",
    "windowval4 = Window.partitionBy(\"userId\").rangeBetween(Window.unboundedPreceding, Window.unboundedFollowing)\n",
    "\n",
    "df = df.withColumn(\"SessionLen\",Fmax(\"itemInSession\").over(windowval3))\n",
    "df_sessionLen = df.select(\"userId\",\"SessionLen\",\"sessionId\").dropDuplicates()\\\n",
    ".withColumn(\"avgSessionLen\",avg(\"SessionLen\").over(windowval4)).drop(\"sessionId\",\"SessionLen\").dropDuplicates()\n",
    "df_sessionLen.show(10)"
   ]
  },
  {
   "cell_type": "code",
   "execution_count": 126,
   "metadata": {},
   "outputs": [],
   "source": [
    "#Add the membership status of the customer at their last action\n",
    "\n",
    "windowval5 = Window.partitionBy(\"userId\").orderBy(desc(\"ts\"))\n",
    "df = df.withColumn(\"row_in_user_group\",row_number().over(windowval5))\n",
    "df_membership_status = df.select(\"userId\",\"row_in_user_group\",\"level\").where(df[\"row_in_user_group\"]==1)\\\n",
    "                      .drop(\"row_in_user_group\").dropDuplicates()\n",
    "df_membership_status = df_membership_status.select(\"userId\",col(\"level\").alias(\"final_level\"))"
   ]
  },
  {
   "cell_type": "code",
   "execution_count": 127,
   "metadata": {},
   "outputs": [],
   "source": [
    "df_drop = df.drop(\"artist\",\"auth\",\"itemInSession\",\"length\",\"level\",\"location\",\"method\",\"page\",\"registration\",\"sessionId\",\\\n",
    "                  \"song\",\"status\",\"ts\",\"userAgent\",\"time\",\"hour\",\"weekday\",\"day\",\"Cancelled\",\"NextSong\",\"Home\",\"ThumbsUp\",\\\n",
    "                  \"AddFriend\",\"AddPlaylist\",\"TimeFromEnd\",\"SessionLen\",\"row_in_user_group\").dropDuplicates()\n",
    "df_pivot = df_drop.where(df_drop.WeeksFromEndInt <=3).groupBy('userId').pivot('WeeksFromEndInt')\\\n",
    "                  .agg(first('songs_in_week').alias('songs_week'),first('home_in_week').alias('home_week'),\\\n",
    "                       first('thumbsUp_in_week').alias('thumbsUp_week'),first('addFriends_in_week')\\\n",
    "                       .alias('addFriends_week'),first('addPlaylist_in_week').alias('addPlaylist_week'))\n",
    "#df_drop = df_drop.select(\"firstName\",\"gender\",\"lastName\",\"userId\",\"Churn\").dropDuplicates()"
   ]
  },
  {
   "cell_type": "code",
   "execution_count": 128,
   "metadata": {},
   "outputs": [],
   "source": [
    "df_base = df_drop.drop(\"MaxTime\",\"WeeksFromEnd\",\"WeeksFromEndInt\",\"songs_in_week\",\"home_in_week\",\"thumbsUp_in_week\",\\\n",
    "                       \"addFriends_in_week\",\"addPlaylist_in_week\").dropDuplicates()"
   ]
  },
  {
   "cell_type": "code",
   "execution_count": 129,
   "metadata": {},
   "outputs": [
    {
     "name": "stdout",
     "output_type": "stream",
     "text": [
      "root\n",
      " |-- firstName: string (nullable = true)\n",
      " |-- gender: string (nullable = true)\n",
      " |-- lastName: string (nullable = true)\n",
      " |-- userId: string (nullable = true)\n",
      " |-- Churn: integer (nullable = true)\n",
      " |-- songCount: long (nullable = true)\n",
      " |-- homeCount: long (nullable = true)\n",
      " |-- thumbsUpCount: long (nullable = true)\n",
      " |-- addFriendCount: long (nullable = true)\n",
      " |-- addPlaylistCount: long (nullable = true)\n",
      "\n"
     ]
    }
   ],
   "source": [
    "df_base.printSchema()"
   ]
  },
  {
   "cell_type": "code",
   "execution_count": 130,
   "metadata": {},
   "outputs": [
    {
     "name": "stdout",
     "output_type": "stream",
     "text": [
      "225\n",
      "225\n",
      "225\n",
      "225\n"
     ]
    }
   ],
   "source": [
    "#Check that each dataset contains 225 rows before joining\n",
    "print(df_base.count())\n",
    "print(df_pivot.count())\n",
    "print(df_sessionLen.count())\n",
    "print(df_membership_status.count())"
   ]
  },
  {
   "cell_type": "code",
   "execution_count": 131,
   "metadata": {},
   "outputs": [
    {
     "name": "stdout",
     "output_type": "stream",
     "text": [
      "+------+------------+-----------+---------------+-----------------+------------------+------------+-----------+---------------+-----------------+------------------+------------+-----------+---------------+-----------------+------------------+------------+-----------+---------------+-----------------+------------------+\n",
      "|userId|0_songs_week|0_home_week|0_thumbsUp_week|0_addFriends_week|0_addPlaylist_week|1_songs_week|1_home_week|1_thumbsUp_week|1_addFriends_week|1_addPlaylist_week|2_songs_week|2_home_week|2_thumbsUp_week|2_addFriends_week|2_addPlaylist_week|3_songs_week|3_home_week|3_thumbsUp_week|3_addFriends_week|3_addPlaylist_week|\n",
      "+------+------------+-----------+---------------+-----------------+------------------+------------+-----------+---------------+-----------------+------------------+------------+-----------+---------------+-----------------+------------------+------------+-----------+---------------+-----------------+------------------+\n",
      "|     0|           0|          0|              0|                0|                 0|          68|         68|             68|               68|                68|          70|         70|             70|               70|                70|          73|         73|             73|               73|                73|\n",
      "+------+------------+-----------+---------------+-----------------+------------------+------------+-----------+---------------+-----------------+------------------+------------+-----------+---------------+-----------------+------------------+------------+-----------+---------------+-----------------+------------------+\n",
      "\n"
     ]
    }
   ],
   "source": [
    "df_pivot.select([count(when(col(c).isNull(), c)).alias(c) for c in df_pivot.columns]).show()"
   ]
  },
  {
   "cell_type": "code",
   "execution_count": 132,
   "metadata": {},
   "outputs": [
    {
     "name": "stdout",
     "output_type": "stream",
     "text": [
      "+------+---------+------+---------+-----+---------+---------+-------------+--------------+----------------+------------+-----------+---------------+-----------------+------------------+------------+-----------+---------------+-----------------+------------------+------------+-----------+---------------+-----------------+------------------+------------+-----------+---------------+-----------------+------------------+------------------+-----------+-------------------+\n",
      "|userId|firstName|gender| lastName|Churn|songCount|homeCount|thumbsUpCount|addFriendCount|addPlaylistCount|0_songs_week|0_home_week|0_thumbsUp_week|0_addFriends_week|0_addPlaylist_week|1_songs_week|1_home_week|1_thumbsUp_week|1_addFriends_week|1_addPlaylist_week|2_songs_week|2_home_week|2_thumbsUp_week|2_addFriends_week|2_addPlaylist_week|3_songs_week|3_home_week|3_thumbsUp_week|3_addFriends_week|3_addPlaylist_week|     avgSessionLen|final_level|   percIncreaseSong|\n",
      "+------+---------+------+---------+-----+---------+---------+-------------+--------------+----------------+------------+-----------+---------------+-----------------+------------------+------------+-----------+---------------+-----------------+------------------+------------+-----------+---------------+-----------------+------------------+------------+-----------+---------------+-----------------+------------------+------------------+-----------+-------------------+\n",
      "|100010| Darianna|     F|Carpenter|    0|      275|       11|           17|             4|               7|          24|          1|              2|                0|                 1|          80|          2|              5|                0|                 3|          51|          2|              4|                1|                 1|           0|          0|              0|                0|                 0| 54.42857142857143|       free|0.15384615384615385|\n",
      "|200002|  Dominic|     M|   Torres|    0|      387|       20|           21|             4|               8|         120|          6|              6|                0|                 2|           0|          0|              0|                0|                 0|           0|          0|              0|                0|                 0|          92|          4|              4|                0|                 1|              80.0|       paid| 0.5633802816901409|\n",
      "|   125|    Mason|     M|     Hart|    1|        8|        0|            0|             0|               0|           8|          0|              0|                0|                 0|           0|          0|              0|                0|                 0|           0|          0|              0|                0|                 0|           0|          0|              0|                0|                 0|              10.0|       free| 0.8888888888888888|\n",
      "|   124|   Nicole|     F|     Beck|    0|     4079|      176|          171|            74|             118|         227|         12|             14|                2|                 3|         213|          9|              5|                1|                 3|         843|         31|             36|               18|                21|         571|         18|             30|               16|                18|170.13793103448276|       paid|0.12237196765498652|\n",
      "|    51|    Ethan|     M|  Johnson|    1|     2111|       75|          100|            28|              52|         959|         25|             47|                4|                21|         655|         28|             31|               13|                12|         497|         22|             22|               11|                19|           0|          0|              0|                0|                 0|             251.9|       paid| 0.4540719696969697|\n",
      "+------+---------+------+---------+-----+---------+---------+-------------+--------------+----------------+------------+-----------+---------------+-----------------+------------------+------------+-----------+---------------+-----------------+------------------+------------+-----------+---------------+-----------------+------------------+------------+-----------+---------------+-----------------+------------------+------------------+-----------+-------------------+\n",
      "only showing top 5 rows\n",
      "\n"
     ]
    }
   ],
   "source": [
    "#Fill null values in pivot with 0s. These are created during the pivot when there are no values for a column. \n",
    "#This means the frequency count is 0, meaning the column value should be 0. \n",
    "df_pivot = df_pivot.fillna(0)\n",
    "df_join = df_base.join(df_pivot,\"userId\",\"left\").join(df_sessionLen,\"userId\",\"left\").\\\n",
    "          join(df_membership_status,\"userId\",\"left\")\n",
    "\n",
    "df_join =  df_join.withColumn(\"percIncreaseSong\",(df_join[\"0_songs_week\"])/\\\n",
    "           (df_join[\"0_songs_week\"]+df_join[\"1_songs_week\"]+df_join[\"2_songs_week\"]+df_join[\"3_songs_week\"]+1))\n",
    "df_join.show(5)"
   ]
  },
  {
   "cell_type": "code",
   "execution_count": 133,
   "metadata": {},
   "outputs": [
    {
     "data": {
      "text/plain": [
       "225"
      ]
     },
     "execution_count": 133,
     "metadata": {},
     "output_type": "execute_result"
    }
   ],
   "source": [
    "#Check that the number of rows in the joined dataset is 225. \n",
    "df_join.count()"
   ]
  },
  {
   "cell_type": "code",
   "execution_count": 134,
   "metadata": {},
   "outputs": [
    {
     "name": "stdout",
     "output_type": "stream",
     "text": [
      "+------+---------+------+---------+-----+---------+---------+-------------+--------------+----------------+------------+-----------+---------------+-----------------+------------------+------------+-----------+---------------+-----------------+------------------+------------+-----------+---------------+-----------------+------------------+------------+-----------+---------------+-----------------+------------------+------------------+-----------+-------------------+\n",
      "|userId|firstName|gender| lastName|Churn|songCount|homeCount|thumbsUpCount|addFriendCount|addPlaylistCount|0_songs_week|0_home_week|0_thumbsUp_week|0_addFriends_week|0_addPlaylist_week|1_songs_week|1_home_week|1_thumbsUp_week|1_addFriends_week|1_addPlaylist_week|2_songs_week|2_home_week|2_thumbsUp_week|2_addFriends_week|2_addPlaylist_week|3_songs_week|3_home_week|3_thumbsUp_week|3_addFriends_week|3_addPlaylist_week|     avgSessionLen|final_level|   percIncreaseSong|\n",
      "+------+---------+------+---------+-----+---------+---------+-------------+--------------+----------------+------------+-----------+---------------+-----------------+------------------+------------+-----------+---------------+-----------------+------------------+------------+-----------+---------------+-----------------+------------------+------------+-----------+---------------+-----------------+------------------+------------------+-----------+-------------------+\n",
      "|100010| Darianna|     0|Carpenter|    0|      275|       11|           17|             4|               7|          24|          1|              2|                0|                 1|          80|          2|              5|                0|                 3|          51|          2|              4|                1|                 1|           0|          0|              0|                0|                 0| 54.42857142857143|          0|0.15384615384615385|\n",
      "|200002|  Dominic|     1|   Torres|    0|      387|       20|           21|             4|               8|         120|          6|              6|                0|                 2|           0|          0|              0|                0|                 0|           0|          0|              0|                0|                 0|          92|          4|              4|                0|                 1|              80.0|          1| 0.5633802816901409|\n",
      "|   125|    Mason|     1|     Hart|    1|        8|        0|            0|             0|               0|           8|          0|              0|                0|                 0|           0|          0|              0|                0|                 0|           0|          0|              0|                0|                 0|           0|          0|              0|                0|                 0|              10.0|          0| 0.8888888888888888|\n",
      "|   124|   Nicole|     0|     Beck|    0|     4079|      176|          171|            74|             118|         227|         12|             14|                2|                 3|         213|          9|              5|                1|                 3|         843|         31|             36|               18|                21|         571|         18|             30|               16|                18|170.13793103448276|          1|0.12237196765498652|\n",
      "|    51|    Ethan|     1|  Johnson|    1|     2111|       75|          100|            28|              52|         959|         25|             47|                4|                21|         655|         28|             31|               13|                12|         497|         22|             22|               11|                19|           0|          0|              0|                0|                 0|             251.9|          1| 0.4540719696969697|\n",
      "+------+---------+------+---------+-----+---------+---------+-------------+--------------+----------------+------------+-----------+---------------+-----------------+------------------+------------+-----------+---------------+-----------------+------------------+------------+-----------+---------------+-----------------+------------------+------------+-----------+---------------+-----------------+------------------+------------------+-----------+-------------------+\n",
      "only showing top 5 rows\n",
      "\n"
     ]
    }
   ],
   "source": [
    "#Drop unnecesarry columns, and make character variables numeric. \n",
    "\n",
    "df_cust_lvl = df_join.drop(\"MaxTime\",\"WeeksFromEnd\",\"weeksFromEndInt\",\"songs_in_week\",\"home_in_week\",\"thumbsUp_in_week\",\\\n",
    "                           \"addFriends_in_week\",\"addPlaylist_in_week\").dropDuplicates()\n",
    "\n",
    "updateGender = udf(lambda x:1 if x == \"M\" else 0,IntegerType())\n",
    "updateMembershipStatus  = udf(lambda x:1 if x == \"paid\" else 0,IntegerType())\n",
    "\n",
    "df_cust_lvl = df_cust_lvl.withColumn(\"gender\",updateGender(df_cust_lvl.gender))\\\n",
    ".withColumn(\"final_level\",updateMembershipStatus(df_cust_lvl.final_level))\n",
    "df_cust_lvl.show(5)"
   ]
  },
  {
   "cell_type": "code",
   "execution_count": 135,
   "metadata": {},
   "outputs": [],
   "source": [
    "#Move the churn column to the end of the dataframe.\n",
    "df_user_churned = df_cust_lvl.select(\"userId\", \"Churn\")\n",
    "df_cust_lvl_no_churn = df_cust_lvl.drop(\"Churn\")\n",
    "df_with_churn = df_cust_lvl_no_churn.join(df_user_churned, \"userId\", \"left\")"
   ]
  },
  {
   "cell_type": "code",
   "execution_count": 136,
   "metadata": {},
   "outputs": [],
   "source": [
    "df_final = df_with_churn.drop(\"userId\",\"firstName\",\"lastName\")"
   ]
  },
  {
   "cell_type": "code",
   "execution_count": 137,
   "metadata": {},
   "outputs": [
    {
     "name": "stdout",
     "output_type": "stream",
     "text": [
      "+------+---------+---------+-------------+--------------+----------------+------------+-----------+---------------+-----------------+------------------+------------+-----------+---------------+-----------------+------------------+------------+-----------+---------------+-----------------+------------------+------------+-----------+---------------+-----------------+------------------+-------------+-----------+----------------+-----+\n",
      "|gender|songCount|homeCount|thumbsUpCount|addFriendCount|addPlaylistCount|0_songs_week|0_home_week|0_thumbsUp_week|0_addFriends_week|0_addPlaylist_week|1_songs_week|1_home_week|1_thumbsUp_week|1_addFriends_week|1_addPlaylist_week|2_songs_week|2_home_week|2_thumbsUp_week|2_addFriends_week|2_addPlaylist_week|3_songs_week|3_home_week|3_thumbsUp_week|3_addFriends_week|3_addPlaylist_week|avgSessionLen|final_level|percIncreaseSong|Churn|\n",
      "+------+---------+---------+-------------+--------------+----------------+------------+-----------+---------------+-----------------+------------------+------------+-----------+---------------+-----------------+------------------+------------+-----------+---------------+-----------------+------------------+------------+-----------+---------------+-----------------+------------------+-------------+-----------+----------------+-----+\n",
      "|     0|        0|        0|            0|             0|               0|           0|          0|              0|                0|                 0|           0|          0|              0|                0|                 0|           0|          0|              0|                0|                 0|           0|          0|              0|                0|                 0|            0|          0|               0|    0|\n",
      "+------+---------+---------+-------------+--------------+----------------+------------+-----------+---------------+-----------------+------------------+------------+-----------+---------------+-----------------+------------------+------------+-----------+---------------+-----------------+------------------+------------+-----------+---------------+-----------------+------------------+-------------+-----------+----------------+-----+\n",
      "\n"
     ]
    }
   ],
   "source": [
    "#Check for Nan values\n",
    "df_final.select([count(when(isnan(c), c)).alias(c) for c in df_final.columns]).show()"
   ]
  },
  {
   "cell_type": "code",
   "execution_count": 138,
   "metadata": {},
   "outputs": [
    {
     "name": "stdout",
     "output_type": "stream",
     "text": [
      "+------+---------+---------+-------------+--------------+----------------+------------+-----------+---------------+-----------------+------------------+------------+-----------+---------------+-----------------+------------------+------------+-----------+---------------+-----------------+------------------+------------+-----------+---------------+-----------------+------------------+-------------+-----------+----------------+-----+\n",
      "|gender|songCount|homeCount|thumbsUpCount|addFriendCount|addPlaylistCount|0_songs_week|0_home_week|0_thumbsUp_week|0_addFriends_week|0_addPlaylist_week|1_songs_week|1_home_week|1_thumbsUp_week|1_addFriends_week|1_addPlaylist_week|2_songs_week|2_home_week|2_thumbsUp_week|2_addFriends_week|2_addPlaylist_week|3_songs_week|3_home_week|3_thumbsUp_week|3_addFriends_week|3_addPlaylist_week|avgSessionLen|final_level|percIncreaseSong|Churn|\n",
      "+------+---------+---------+-------------+--------------+----------------+------------+-----------+---------------+-----------------+------------------+------------+-----------+---------------+-----------------+------------------+------------+-----------+---------------+-----------------+------------------+------------+-----------+---------------+-----------------+------------------+-------------+-----------+----------------+-----+\n",
      "|     0|        0|        0|            0|             0|               0|           0|          0|              0|                0|                 0|           0|          0|              0|                0|                 0|           0|          0|              0|                0|                 0|           0|          0|              0|                0|                 0|            0|          0|               0|    0|\n",
      "+------+---------+---------+-------------+--------------+----------------+------------+-----------+---------------+-----------------+------------------+------------+-----------+---------------+-----------------+------------------+------------+-----------+---------------+-----------------+------------------+------------+-----------+---------------+-----------------+------------------+-------------+-----------+----------------+-----+\n",
      "\n"
     ]
    }
   ],
   "source": [
    "#Check or Null values\n",
    "df_final.select([count(when(col(c).isNull(), c)).alias(c) for c in df_final.columns]).show()"
   ]
  },
  {
   "cell_type": "code",
   "execution_count": 139,
   "metadata": {},
   "outputs": [
    {
     "name": "stdout",
     "output_type": "stream",
     "text": [
      "+------+---------+---------+-------------+--------------+----------------+------------+-----------+---------------+-----------------+------------------+------------+-----------+---------------+-----------------+------------------+------------+-----------+---------------+-----------------+------------------+------------+-----------+---------------+-----------------+------------------+------------------+-----------+-------------------+-----+\n",
      "|gender|songCount|homeCount|thumbsUpCount|addFriendCount|addPlaylistCount|0_songs_week|0_home_week|0_thumbsUp_week|0_addFriends_week|0_addPlaylist_week|1_songs_week|1_home_week|1_thumbsUp_week|1_addFriends_week|1_addPlaylist_week|2_songs_week|2_home_week|2_thumbsUp_week|2_addFriends_week|2_addPlaylist_week|3_songs_week|3_home_week|3_thumbsUp_week|3_addFriends_week|3_addPlaylist_week|     avgSessionLen|final_level|   percIncreaseSong|Churn|\n",
      "+------+---------+---------+-------------+--------------+----------------+------------+-----------+---------------+-----------------+------------------+------------+-----------+---------------+-----------------+------------------+------------+-----------+---------------+-----------------+------------------+------------+-----------+---------------+-----------------+------------------+------------------+-----------+-------------------+-----+\n",
      "|     0|      275|       11|           17|             4|               7|          24|          1|              2|                0|                 1|          80|          2|              5|                0|                 3|          51|          2|              4|                1|                 1|           0|          0|              0|                0|                 0| 54.42857142857143|          0|0.15384615384615385|    0|\n",
      "|     1|      387|       20|           21|             4|               8|         120|          6|              6|                0|                 2|           0|          0|              0|                0|                 0|           0|          0|              0|                0|                 0|          92|          4|              4|                0|                 1|              80.0|          1| 0.5633802816901409|    0|\n",
      "|     1|        8|        0|            0|             0|               0|           8|          0|              0|                0|                 0|           0|          0|              0|                0|                 0|           0|          0|              0|                0|                 0|           0|          0|              0|                0|                 0|              10.0|          0| 0.8888888888888888|    1|\n",
      "|     0|     4079|      176|          171|            74|             118|         227|         12|             14|                2|                 3|         213|          9|              5|                1|                 3|         843|         31|             36|               18|                21|         571|         18|             30|               16|                18|170.13793103448276|          1|0.12237196765498652|    0|\n",
      "|     1|     2111|       75|          100|            28|              52|         959|         25|             47|                4|                21|         655|         28|             31|               13|                12|         497|         22|             22|               11|                19|           0|          0|              0|                0|                 0|             251.9|          1| 0.4540719696969697|    1|\n",
      "+------+---------+---------+-------------+--------------+----------------+------------+-----------+---------------+-----------------+------------------+------------+-----------+---------------+-----------------+------------------+------------+-----------+---------------+-----------------+------------------+------------+-----------+---------------+-----------------+------------------+------------------+-----------+-------------------+-----+\n",
      "only showing top 5 rows\n",
      "\n"
     ]
    }
   ],
   "source": [
    "df_final.show(5)"
   ]
  },
  {
   "cell_type": "markdown",
   "metadata": {},
   "source": [
    "# Modeling"
   ]
  },
  {
   "cell_type": "markdown",
   "metadata": {},
   "source": [
    " Models to be built:\n",
    " - Logistic Regression\n",
    " - XG Boost\n",
    " - Random Forest\n",
    " - Decision Tree "
   ]
  },
  {
   "cell_type": "code",
   "execution_count": 140,
   "metadata": {},
   "outputs": [],
   "source": [
    "features_list = df_final.columns[:]\n",
    "for feature in features_list:\n",
    "    df_final = df_final.withColumn(feature, df_final[feature].cast(\"float\"))"
   ]
  },
  {
   "cell_type": "code",
   "execution_count": 141,
   "metadata": {},
   "outputs": [],
   "source": [
    "assembler = VectorAssembler(inputCols=df_final.columns[:-1], outputCol=\"Features\")\n",
    "data = assembler.transform(df_final)\n",
    "\n",
    "scaler = StandardScaler(inputCol=\"Features\", outputCol=\"ScaledFeatures\", withStd=True)\n",
    "scaler_trans = scaler.fit(data)\n",
    "data = scaler_trans.transform(data)\n",
    "\n",
    "data = data.select(data.Churn.alias(\"label\"), data.ScaledFeatures.alias(\"features\"))"
   ]
  },
  {
   "cell_type": "code",
   "execution_count": 142,
   "metadata": {},
   "outputs": [],
   "source": [
    "#Cross validation is being used, so no test set is needed for model development\n",
    "train, validation = data.randomSplit([0.8,0.2], seed = 24)"
   ]
  },
  {
   "cell_type": "code",
   "execution_count": 143,
   "metadata": {},
   "outputs": [],
   "source": [
    "def ModelScores(model, model_name):\n",
    "    '''A function to provide the F1 score of any trained model.\n",
    "       input: model - The trained model with which to score\n",
    "              model_name (str) - A string prefix that will appear in the output\n",
    "       output: f1Score - The F1 Score of the model, on the validation data set.\n",
    "    '''\n",
    "    predictions = model.transform(validation)\n",
    "    predictions_pd = predictions.toPandas()\n",
    "    f1Score = f1_score(predictions_pd.label,predictions_pd.prediction)\n",
    "    accuracyScore = accuracy_score(predictions_pd.label,predictions_pd.prediction)\n",
    "    print(model_name,\" F1 score: \",f1Score)\n",
    "    print(model_name,\" Accuracy: \",accuracyScore)"
   ]
  },
  {
   "cell_type": "code",
   "execution_count": 144,
   "metadata": {},
   "outputs": [],
   "source": [
    "def Feature_Importance_Tree(model):\n",
    "    '''This function will output the features most used in a tree based model. \n",
    "       This gives a good idea of the feature importance of the model\n",
    "       \n",
    "    '''\n",
    "    feat_imp_list = list(model.bestModel.featureImportances)\n",
    "    features_list = list(df_final.drop(\"Churn\").columns[:])\n",
    "\n",
    "    Importance_Dict = {\"Feature\":features_list,\"Importance_Score\":feat_imp_list}\n",
    "    Feature_Importance = pd.DataFrame(Importance_Dict).sort_values(by = \"Importance_Score\", ascending = False)\n",
    "\n",
    "    return (Feature_Importance.head(10))"
   ]
  },
  {
   "cell_type": "code",
   "execution_count": 90,
   "metadata": {},
   "outputs": [
    {
     "data": {
      "text/plain": [
       "\"aggregationDepth: suggested depth for treeAggregate (>= 2). (default: 2)\\nelasticNetParam: the ElasticNet mixing parameter, in range [0, 1]. For alpha = 0, the penalty is an L2 penalty. For alpha = 1, it is an L1 penalty. (default: 0.0)\\nfamily: The name of family which is a description of the label distribution to be used in the model. Supported options: auto, binomial, multinomial (default: auto)\\nfeaturesCol: features column name. (default: features)\\nfitIntercept: whether to fit an intercept term. (default: True)\\nlabelCol: label column name. (default: label)\\nlowerBoundsOnCoefficients: The lower bounds on coefficients if fitting under bound constrained optimization. The bound matrix must be compatible with the shape (1, number of features) for binomial regression, or (number of classes, number of features) for multinomial regression. (undefined)\\nlowerBoundsOnIntercepts: The lower bounds on intercepts if fitting under bound constrained optimization. The bounds vector size must beequal with 1 for binomial regression, or the number oflasses for multinomial regression. (undefined)\\nmaxIter: max number of iterations (>= 0). (default: 100)\\npredictionCol: prediction column name. (default: prediction)\\nprobabilityCol: Column name for predicted class conditional probabilities. Note: Not all models output well-calibrated probability estimates! These probabilities should be treated as confidences, not precise probabilities. (default: probability)\\nrawPredictionCol: raw prediction (a.k.a. confidence) column name. (default: rawPrediction)\\nregParam: regularization parameter (>= 0). (default: 0.0)\\nstandardization: whether to standardize the training features before fitting the model. (default: True)\\nthreshold: Threshold in binary classification prediction, in range [0, 1]. If threshold and thresholds are both set, they must match.e.g. if threshold is p, then thresholds must be equal to [1-p, p]. (default: 0.5)\\nthresholds: Thresholds in multi-class classification to adjust the probability of predicting each class. Array must have length equal to the number of classes, with values > 0, excepting that at most one value may be 0. The class with largest value p/t is predicted, where p is the original probability of that class and t is the class's threshold. (undefined)\\ntol: the convergence tolerance for iterative algorithms (>= 0). (default: 1e-06)\\nupperBoundsOnCoefficients: The upper bounds on coefficients if fitting under bound constrained optimization. The bound matrix must be compatible with the shape (1, number of features) for binomial regression, or (number of classes, number of features) for multinomial regression. (undefined)\\nupperBoundsOnIntercepts: The upper bounds on intercepts if fitting under bound constrained optimization. The bound vector size must be equal with 1 for binomial regression, or the number of classes for multinomial regression. (undefined)\\nweightCol: weight column name. If this is not set or empty, we treat all instance weights as 1.0. (undefined)\""
      ]
     },
     "execution_count": 90,
     "metadata": {},
     "output_type": "execute_result"
    }
   ],
   "source": [
    "LogisticRegression().explainParams()"
   ]
  },
  {
   "cell_type": "code",
   "execution_count": 91,
   "metadata": {},
   "outputs": [
    {
     "name": "stdout",
     "output_type": "stream",
     "text": [
      "Logistic regression training complete\n"
     ]
    }
   ],
   "source": [
    "lr = LogisticRegression()\n",
    "\n",
    "paramGrid = ParamGridBuilder().addGrid(lr.regParam,[0.0,0.1])\\\n",
    "                              .addGrid(lr.elasticNetParam, [0.0, 0.1])\\\n",
    "                              .addGrid(lr.maxIter,[10,20])\\\n",
    "                              .build()\n",
    "\n",
    "crossval = CrossValidator(estimator=lr,\n",
    "                          estimatorParamMaps=paramGrid,\n",
    "                          evaluator=BinaryClassificationEvaluator(),\n",
    "                          numFolds=3,\n",
    "                          seed = 97) \n",
    "\n",
    "lr_model = crossval.fit(train)\n",
    "\n",
    "print(\"Logistic regression training complete\")"
   ]
  },
  {
   "cell_type": "code",
   "execution_count": null,
   "metadata": {},
   "outputs": [],
   "source": [
    "lr_model.write().overwrite().save(\"lr_model.model\")"
   ]
  },
  {
   "cell_type": "code",
   "execution_count": null,
   "metadata": {},
   "outputs": [],
   "source": [
    "lr_model = CrossValidatorModel.load('lr_model1.model')"
   ]
  },
  {
   "cell_type": "code",
   "execution_count": 168,
   "metadata": {},
   "outputs": [
    {
     "name": "stdout",
     "output_type": "stream",
     "text": [
      "Best minInstancesPerNode value: 0.1\n",
      "Best maxIter value: 10\n",
      "Best elasticNetParam value: 0.1\n"
     ]
    }
   ],
   "source": [
    "print(\"Best minInstancesPerNode value:\", lr_model.bestModel._java_obj.getRegParam())\n",
    "print(\"Best maxIter value:\", lr_model.bestModel._java_obj.getMaxIter())\n",
    "print(\"Best elasticNetParam value:\", lr_model.bestModel._java_obj.getElasticNetParam())"
   ]
  },
  {
   "cell_type": "code",
   "execution_count": 169,
   "metadata": {},
   "outputs": [
    {
     "name": "stdout",
     "output_type": "stream",
     "text": [
      "Logistic regression training complete\n"
     ]
    }
   ],
   "source": [
    "lr = LogisticRegression()\n",
    "\n",
    "paramGrid = ParamGridBuilder().addGrid(lr.regParam,[0.1,0.2])\\\n",
    "                              .addGrid(lr.elasticNetParam, [0.1,0.2])\\\n",
    "                              .addGrid(lr.maxIter,[10])\\\n",
    "                              .build()\n",
    "\n",
    "crossval = CrossValidator(estimator=lr,\n",
    "                          estimatorParamMaps=paramGrid,\n",
    "                          evaluator=BinaryClassificationEvaluator(),\n",
    "                          numFolds=3,\n",
    "                          seed = 97) \n",
    "\n",
    "lr_model = crossval.fit(train)\n",
    "\n",
    "print(\"Logistic regression training complete\")"
   ]
  },
  {
   "cell_type": "code",
   "execution_count": 170,
   "metadata": {},
   "outputs": [],
   "source": [
    "lr_model.write().overwrite().save(\"lr_model2.model\")"
   ]
  },
  {
   "cell_type": "code",
   "execution_count": 94,
   "metadata": {},
   "outputs": [],
   "source": [
    "lr_model = CrossValidatorModel.load('lr_model2.model')"
   ]
  },
  {
   "cell_type": "code",
   "execution_count": 171,
   "metadata": {},
   "outputs": [
    {
     "name": "stdout",
     "output_type": "stream",
     "text": [
      "Best minInstancesPerNode value: 0.1\n",
      "Best elasticNetParam value: 0.1\n"
     ]
    }
   ],
   "source": [
    "print(\"Best minInstancesPerNode value:\", lr_model.bestModel._java_obj.getRegParam())\n",
    "print(\"Best elasticNetParam value:\", lr_model.bestModel._java_obj.getElasticNetParam())"
   ]
  },
  {
   "cell_type": "code",
   "execution_count": 95,
   "metadata": {},
   "outputs": [
    {
     "name": "stdout",
     "output_type": "stream",
     "text": [
      "LR  F1 score:  0.133333333333\n",
      "LR  Accuracy:  0.74\n"
     ]
    }
   ],
   "source": [
    "ModelScores(lr_model,\"LR\")"
   ]
  },
  {
   "cell_type": "code",
   "execution_count": 96,
   "metadata": {},
   "outputs": [
    {
     "data": {
      "text/html": [
       "<div>\n",
       "<style scoped>\n",
       "    .dataframe tbody tr th:only-of-type {\n",
       "        vertical-align: middle;\n",
       "    }\n",
       "\n",
       "    .dataframe tbody tr th {\n",
       "        vertical-align: top;\n",
       "    }\n",
       "\n",
       "    .dataframe thead th {\n",
       "        text-align: right;\n",
       "    }\n",
       "</style>\n",
       "<table border=\"1\" class=\"dataframe\">\n",
       "  <thead>\n",
       "    <tr style=\"text-align: right;\">\n",
       "      <th></th>\n",
       "      <th>Feature</th>\n",
       "      <th>Importance_Score</th>\n",
       "      <th>Importance_mag</th>\n",
       "    </tr>\n",
       "  </thead>\n",
       "  <tbody>\n",
       "    <tr>\n",
       "      <th>12</th>\n",
       "      <td>1_home_week</td>\n",
       "      <td>0.284080</td>\n",
       "      <td>0.284080</td>\n",
       "    </tr>\n",
       "    <tr>\n",
       "      <th>26</th>\n",
       "      <td>avgSessionLen</td>\n",
       "      <td>-0.195135</td>\n",
       "      <td>0.195135</td>\n",
       "    </tr>\n",
       "    <tr>\n",
       "      <th>4</th>\n",
       "      <td>addFriendCount</td>\n",
       "      <td>-0.179818</td>\n",
       "      <td>0.179818</td>\n",
       "    </tr>\n",
       "    <tr>\n",
       "      <th>28</th>\n",
       "      <td>percIncreaseSong</td>\n",
       "      <td>0.165080</td>\n",
       "      <td>0.165080</td>\n",
       "    </tr>\n",
       "    <tr>\n",
       "      <th>19</th>\n",
       "      <td>2_addFriends_week</td>\n",
       "      <td>-0.148250</td>\n",
       "      <td>0.148250</td>\n",
       "    </tr>\n",
       "    <tr>\n",
       "      <th>25</th>\n",
       "      <td>3_addPlaylist_week</td>\n",
       "      <td>-0.129861</td>\n",
       "      <td>0.129861</td>\n",
       "    </tr>\n",
       "    <tr>\n",
       "      <th>23</th>\n",
       "      <td>3_thumbsUp_week</td>\n",
       "      <td>-0.122071</td>\n",
       "      <td>0.122071</td>\n",
       "    </tr>\n",
       "    <tr>\n",
       "      <th>7</th>\n",
       "      <td>0_home_week</td>\n",
       "      <td>0.116437</td>\n",
       "      <td>0.116437</td>\n",
       "    </tr>\n",
       "    <tr>\n",
       "      <th>8</th>\n",
       "      <td>0_thumbsUp_week</td>\n",
       "      <td>0.114925</td>\n",
       "      <td>0.114925</td>\n",
       "    </tr>\n",
       "    <tr>\n",
       "      <th>9</th>\n",
       "      <td>0_addFriends_week</td>\n",
       "      <td>-0.107589</td>\n",
       "      <td>0.107589</td>\n",
       "    </tr>\n",
       "  </tbody>\n",
       "</table>\n",
       "</div>"
      ],
      "text/plain": [
       "               Feature  Importance_Score  Importance_mag\n",
       "12         1_home_week          0.284080        0.284080\n",
       "26       avgSessionLen         -0.195135        0.195135\n",
       "4       addFriendCount         -0.179818        0.179818\n",
       "28    percIncreaseSong          0.165080        0.165080\n",
       "19   2_addFriends_week         -0.148250        0.148250\n",
       "25  3_addPlaylist_week         -0.129861        0.129861\n",
       "23     3_thumbsUp_week         -0.122071        0.122071\n",
       "7          0_home_week          0.116437        0.116437\n",
       "8      0_thumbsUp_week          0.114925        0.114925\n",
       "9    0_addFriends_week         -0.107589        0.107589"
      ]
     },
     "execution_count": 96,
     "metadata": {},
     "output_type": "execute_result"
    }
   ],
   "source": [
    "coefficients = list(lr_model.bestModel.coefficients)\n",
    "mag_coefficients = list(lr_model.bestModel.coefficients)\n",
    "for i in range(len(coefficients)):\n",
    "    mag_coefficients[i] = abs(mag_coefficients[i])\n",
    "\n",
    "features = list(df_final.drop(\"Churn\").columns[:])\n",
    "\n",
    "LR_Dict = {\"Feature\":features,\"Importance_Score\":coefficients, \"Importance_mag\":mag_coefficients}\n",
    "LR_Feature_Importance = pd.DataFrame(LR_Dict).sort_values(by = \"Importance_mag\", ascending = False)\n",
    "LR_Feature_Importance.head(10)"
   ]
  },
  {
   "cell_type": "code",
   "execution_count": 97,
   "metadata": {},
   "outputs": [
    {
     "data": {
      "text/plain": [
       "\"cacheNodeIds: If false, the algorithm will pass trees to executors to match instances with nodes. If true, the algorithm will cache node IDs for each instance. Caching can speed up training of deeper trees. Users can set how often should the cache be checkpointed or disable it by setting checkpointInterval. (default: False)\\ncheckpointInterval: set checkpoint interval (>= 1) or disable checkpoint (-1). E.g. 10 means that the cache will get checkpointed every 10 iterations. Note: this setting will be ignored if the checkpoint directory is not set in the SparkContext. (default: 10)\\nfeatureSubsetStrategy: The number of features to consider for splits at each tree node. Supported options: 'auto' (choose automatically for task: If numTrees == 1, set to 'all'. If numTrees > 1 (forest), set to 'sqrt' for classification and to 'onethird' for regression), 'all' (use all features), 'onethird' (use 1/3 of the features), 'sqrt' (use sqrt(number of features)), 'log2' (use log2(number of features)), 'n' (when n is in the range (0, 1.0], use n * number of features. When n is in the range (1, number of features), use n features). default = 'auto' (default: all)\\nfeaturesCol: features column name. (default: features)\\nlabelCol: label column name. (default: label)\\nlossType: Loss function which GBT tries to minimize (case-insensitive). Supported options: logistic (default: logistic)\\nmaxBins: Max number of bins for discretizing continuous features.  Must be >=2 and >= number of categories for any categorical feature. (default: 32)\\nmaxDepth: Maximum depth of the tree. (>= 0) E.g., depth 0 means 1 leaf node; depth 1 means 1 internal node + 2 leaf nodes. (default: 5)\\nmaxIter: max number of iterations (>= 0). (default: 20)\\nmaxMemoryInMB: Maximum memory in MB allocated to histogram aggregation. If too small, then 1 node will be split per iteration, and its aggregates may exceed this size. (default: 256)\\nminInfoGain: Minimum information gain for a split to be considered at a tree node. (default: 0.0)\\nminInstancesPerNode: Minimum number of instances each child must have after split. If a split causes the left or right child to have fewer than minInstancesPerNode, the split will be discarded as invalid. Should be >= 1. (default: 1)\\npredictionCol: prediction column name. (default: prediction)\\nseed: random seed. (default: 3311586849934788838)\\nstepSize: Step size (a.k.a. learning rate) in interval (0, 1] for shrinking the contribution of each estimator. (default: 0.1)\\nsubsamplingRate: Fraction of the training data used for learning each decision tree, in range (0, 1]. (default: 1.0)\""
      ]
     },
     "execution_count": 97,
     "metadata": {},
     "output_type": "execute_result"
    }
   ],
   "source": [
    "GBTClassifier().explainParams()"
   ]
  },
  {
   "cell_type": "code",
   "execution_count": 98,
   "metadata": {},
   "outputs": [
    {
     "name": "stdout",
     "output_type": "stream",
     "text": [
      "Gradient boosting tree training complete\n"
     ]
    }
   ],
   "source": [
    "GBT = GBTClassifier(seed = 24)\n",
    "\n",
    "paramGrid = ParamGridBuilder().addGrid(GBT.maxIter,[10,20])\\\n",
    "                              .addGrid(GBT.minInstancesPerNode,[1,3])\\\n",
    "                              .build()\n",
    "\n",
    "crossval = CrossValidator(estimator=GBT,\n",
    "                          estimatorParamMaps=paramGrid,\n",
    "                          evaluator=BinaryClassificationEvaluator(),\n",
    "                          numFolds=3,\n",
    "                          seed = 97) \n",
    "\n",
    "gbt_model = crossval.fit(train)\n",
    "\n",
    "print(\"Gradient boosting tree training complete\")"
   ]
  },
  {
   "cell_type": "code",
   "execution_count": 172,
   "metadata": {},
   "outputs": [
    {
     "name": "stdout",
     "output_type": "stream",
     "text": [
      "Best minInstancesPerNode value: 1\n",
      "Best maxIter value: 20\n"
     ]
    }
   ],
   "source": [
    "print(\"Best minInstancesPerNode value:\", gbt_model.bestModel._java_obj.getMinInstancesPerNode())\n",
    "print(\"Best maxIter value:\", gbt_model.bestModel._java_obj.getMaxIter())"
   ]
  },
  {
   "cell_type": "code",
   "execution_count": null,
   "metadata": {},
   "outputs": [],
   "source": [
    "gbt_model.write().overwrite().save('GBTModel.model')"
   ]
  },
  {
   "cell_type": "code",
   "execution_count": null,
   "metadata": {},
   "outputs": [],
   "source": [
    "lr_model = CrossValidatorModel.load('lr_model.model')"
   ]
  },
  {
   "cell_type": "code",
   "execution_count": null,
   "metadata": {},
   "outputs": [],
   "source": []
  },
  {
   "cell_type": "code",
   "execution_count": 174,
   "metadata": {},
   "outputs": [
    {
     "name": "stdout",
     "output_type": "stream",
     "text": [
      "Gradient boosting tree training complete\n"
     ]
    }
   ],
   "source": [
    "GBT = GBTClassifier(seed = 24)\n",
    "\n",
    "paramGrid = ParamGridBuilder().addGrid(GBT.maxIter,[20])\\\n",
    "                              .addGrid(GBT.minInstancesPerNode,[1])\\\n",
    "                              .addGrid(GBT.maxDepth,[3,5,7])\\\n",
    "                              .build()\n",
    "\n",
    "crossval = CrossValidator(estimator=GBT,\n",
    "                          estimatorParamMaps=paramGrid,\n",
    "                          evaluator=BinaryClassificationEvaluator(),\n",
    "                          numFolds=3,\n",
    "                          seed = 97) \n",
    "\n",
    "gbt_model = crossval.fit(train)\n",
    "\n",
    "print(\"Gradient boosting tree training complete\")"
   ]
  },
  {
   "cell_type": "code",
   "execution_count": 175,
   "metadata": {},
   "outputs": [],
   "source": [
    "gbt_model.write().overwrite().save('GBTModel2.model')"
   ]
  },
  {
   "cell_type": "code",
   "execution_count": 180,
   "metadata": {},
   "outputs": [],
   "source": [
    "gbt_model = CrossValidatorModel.load('GBTModel2.model')"
   ]
  },
  {
   "cell_type": "code",
   "execution_count": 181,
   "metadata": {},
   "outputs": [
    {
     "name": "stdout",
     "output_type": "stream",
     "text": [
      "Best maxDepth value: 5\n"
     ]
    }
   ],
   "source": [
    "print(\"Best maxDepth value:\", gbt_model.bestModel._java_obj.getMaxDepth())"
   ]
  },
  {
   "cell_type": "code",
   "execution_count": 182,
   "metadata": {},
   "outputs": [
    {
     "name": "stdout",
     "output_type": "stream",
     "text": [
      "GBT  F1 score:  0.48275862069\n",
      "GBT  Accuracy:  0.7\n"
     ]
    }
   ],
   "source": [
    "ModelScores(gbt_model,\"GBT\")"
   ]
  },
  {
   "cell_type": "code",
   "execution_count": 179,
   "metadata": {},
   "outputs": [
    {
     "data": {
      "text/html": [
       "<div>\n",
       "<style scoped>\n",
       "    .dataframe tbody tr th:only-of-type {\n",
       "        vertical-align: middle;\n",
       "    }\n",
       "\n",
       "    .dataframe tbody tr th {\n",
       "        vertical-align: top;\n",
       "    }\n",
       "\n",
       "    .dataframe thead th {\n",
       "        text-align: right;\n",
       "    }\n",
       "</style>\n",
       "<table border=\"1\" class=\"dataframe\">\n",
       "  <thead>\n",
       "    <tr style=\"text-align: right;\">\n",
       "      <th></th>\n",
       "      <th>Feature</th>\n",
       "      <th>Importance_Score</th>\n",
       "    </tr>\n",
       "  </thead>\n",
       "  <tbody>\n",
       "    <tr>\n",
       "      <th>2</th>\n",
       "      <td>homeCount</td>\n",
       "      <td>0.106336</td>\n",
       "    </tr>\n",
       "    <tr>\n",
       "      <th>7</th>\n",
       "      <td>0_home_week</td>\n",
       "      <td>0.101643</td>\n",
       "    </tr>\n",
       "    <tr>\n",
       "      <th>26</th>\n",
       "      <td>avgSessionLen</td>\n",
       "      <td>0.080020</td>\n",
       "    </tr>\n",
       "    <tr>\n",
       "      <th>6</th>\n",
       "      <td>0_songs_week</td>\n",
       "      <td>0.070629</td>\n",
       "    </tr>\n",
       "    <tr>\n",
       "      <th>8</th>\n",
       "      <td>0_thumbsUp_week</td>\n",
       "      <td>0.066213</td>\n",
       "    </tr>\n",
       "    <tr>\n",
       "      <th>1</th>\n",
       "      <td>songCount</td>\n",
       "      <td>0.058922</td>\n",
       "    </tr>\n",
       "    <tr>\n",
       "      <th>17</th>\n",
       "      <td>2_home_week</td>\n",
       "      <td>0.049507</td>\n",
       "    </tr>\n",
       "    <tr>\n",
       "      <th>3</th>\n",
       "      <td>thumbsUpCount</td>\n",
       "      <td>0.049042</td>\n",
       "    </tr>\n",
       "    <tr>\n",
       "      <th>4</th>\n",
       "      <td>addFriendCount</td>\n",
       "      <td>0.039896</td>\n",
       "    </tr>\n",
       "    <tr>\n",
       "      <th>11</th>\n",
       "      <td>1_songs_week</td>\n",
       "      <td>0.039893</td>\n",
       "    </tr>\n",
       "  </tbody>\n",
       "</table>\n",
       "</div>"
      ],
      "text/plain": [
       "            Feature  Importance_Score\n",
       "2         homeCount          0.106336\n",
       "7       0_home_week          0.101643\n",
       "26    avgSessionLen          0.080020\n",
       "6      0_songs_week          0.070629\n",
       "8   0_thumbsUp_week          0.066213\n",
       "1         songCount          0.058922\n",
       "17      2_home_week          0.049507\n",
       "3     thumbsUpCount          0.049042\n",
       "4    addFriendCount          0.039896\n",
       "11     1_songs_week          0.039893"
      ]
     },
     "execution_count": 179,
     "metadata": {},
     "output_type": "execute_result"
    }
   ],
   "source": [
    "Feature_Importance_Tree(gbt_model)"
   ]
  },
  {
   "cell_type": "code",
   "execution_count": 145,
   "metadata": {},
   "outputs": [
    {
     "data": {
      "text/plain": [
       "'cacheNodeIds: If false, the algorithm will pass trees to executors to match instances with nodes. If true, the algorithm will cache node IDs for each instance. Caching can speed up training of deeper trees. Users can set how often should the cache be checkpointed or disable it by setting checkpointInterval. (default: False)\\ncheckpointInterval: set checkpoint interval (>= 1) or disable checkpoint (-1). E.g. 10 means that the cache will get checkpointed every 10 iterations. Note: this setting will be ignored if the checkpoint directory is not set in the SparkContext. (default: 10)\\nfeaturesCol: features column name. (default: features)\\nimpurity: Criterion used for information gain calculation (case-insensitive). Supported options: entropy, gini (default: gini)\\nlabelCol: label column name. (default: label)\\nmaxBins: Max number of bins for discretizing continuous features.  Must be >=2 and >= number of categories for any categorical feature. (default: 32)\\nmaxDepth: Maximum depth of the tree. (>= 0) E.g., depth 0 means 1 leaf node; depth 1 means 1 internal node + 2 leaf nodes. (default: 5)\\nmaxMemoryInMB: Maximum memory in MB allocated to histogram aggregation. If too small, then 1 node will be split per iteration, and its aggregates may exceed this size. (default: 256)\\nminInfoGain: Minimum information gain for a split to be considered at a tree node. (default: 0.0)\\nminInstancesPerNode: Minimum number of instances each child must have after split. If a split causes the left or right child to have fewer than minInstancesPerNode, the split will be discarded as invalid. Should be >= 1. (default: 1)\\npredictionCol: prediction column name. (default: prediction)\\nprobabilityCol: Column name for predicted class conditional probabilities. Note: Not all models output well-calibrated probability estimates! These probabilities should be treated as confidences, not precise probabilities. (default: probability)\\nrawPredictionCol: raw prediction (a.k.a. confidence) column name. (default: rawPrediction)\\nseed: random seed. (default: -3784111367641210211)'"
      ]
     },
     "execution_count": 145,
     "metadata": {},
     "output_type": "execute_result"
    }
   ],
   "source": [
    "DecisionTreeClassifier().explainParams()"
   ]
  },
  {
   "cell_type": "code",
   "execution_count": 146,
   "metadata": {},
   "outputs": [
    {
     "name": "stdout",
     "output_type": "stream",
     "text": [
      "Decision tree training complete\n"
     ]
    }
   ],
   "source": [
    "DT = DecisionTreeClassifier(seed = 24)\n",
    "\n",
    "paramGrid = ParamGridBuilder().addGrid(DT.maxDepth,[3,5])\\\n",
    "                              .addGrid(DT.minInstancesPerNode,[1,3])\\\n",
    "                              .addGrid(DT.impurity, [\"entropy\",\"gini\"])\\\n",
    "                              .build()\n",
    "\n",
    "crossval = CrossValidator(estimator=DT,\n",
    "                          estimatorParamMaps=paramGrid,\n",
    "                          evaluator=BinaryClassificationEvaluator(),\n",
    "                          numFolds=3,\n",
    "                          seed = 97) \n",
    "\n",
    "dt_model = crossval.fit(train)\n",
    "\n",
    "print(\"Decision tree training complete\")"
   ]
  },
  {
   "cell_type": "code",
   "execution_count": 147,
   "metadata": {},
   "outputs": [],
   "source": [
    "dt_model.write().overwrite().save('DTModel.model')"
   ]
  },
  {
   "cell_type": "code",
   "execution_count": 148,
   "metadata": {},
   "outputs": [],
   "source": [
    "dt_model = CrossValidatorModel.load('DTModel.model')"
   ]
  },
  {
   "cell_type": "code",
   "execution_count": 149,
   "metadata": {},
   "outputs": [
    {
     "name": "stdout",
     "output_type": "stream",
     "text": [
      "DT  F1 score:  0.5\n",
      "DT  Accuracy:  0.76\n"
     ]
    }
   ],
   "source": [
    "ModelScores(dt_model,\"DT\")"
   ]
  },
  {
   "cell_type": "code",
   "execution_count": 150,
   "metadata": {},
   "outputs": [
    {
     "data": {
      "text/html": [
       "<div>\n",
       "<style scoped>\n",
       "    .dataframe tbody tr th:only-of-type {\n",
       "        vertical-align: middle;\n",
       "    }\n",
       "\n",
       "    .dataframe tbody tr th {\n",
       "        vertical-align: top;\n",
       "    }\n",
       "\n",
       "    .dataframe thead th {\n",
       "        text-align: right;\n",
       "    }\n",
       "</style>\n",
       "<table border=\"1\" class=\"dataframe\">\n",
       "  <thead>\n",
       "    <tr style=\"text-align: right;\">\n",
       "      <th></th>\n",
       "      <th>Feature</th>\n",
       "      <th>Importance_Score</th>\n",
       "    </tr>\n",
       "  </thead>\n",
       "  <tbody>\n",
       "    <tr>\n",
       "      <th>8</th>\n",
       "      <td>0_thumbsUp_week</td>\n",
       "      <td>0.189557</td>\n",
       "    </tr>\n",
       "    <tr>\n",
       "      <th>5</th>\n",
       "      <td>addPlaylistCount</td>\n",
       "      <td>0.141839</td>\n",
       "    </tr>\n",
       "    <tr>\n",
       "      <th>22</th>\n",
       "      <td>3_home_week</td>\n",
       "      <td>0.141377</td>\n",
       "    </tr>\n",
       "    <tr>\n",
       "      <th>26</th>\n",
       "      <td>avgSessionLen</td>\n",
       "      <td>0.139268</td>\n",
       "    </tr>\n",
       "    <tr>\n",
       "      <th>3</th>\n",
       "      <td>thumbsUpCount</td>\n",
       "      <td>0.121413</td>\n",
       "    </tr>\n",
       "    <tr>\n",
       "      <th>7</th>\n",
       "      <td>0_home_week</td>\n",
       "      <td>0.106294</td>\n",
       "    </tr>\n",
       "    <tr>\n",
       "      <th>9</th>\n",
       "      <td>0_addFriends_week</td>\n",
       "      <td>0.100147</td>\n",
       "    </tr>\n",
       "    <tr>\n",
       "      <th>1</th>\n",
       "      <td>songCount</td>\n",
       "      <td>0.036161</td>\n",
       "    </tr>\n",
       "    <tr>\n",
       "      <th>16</th>\n",
       "      <td>2_songs_week</td>\n",
       "      <td>0.023945</td>\n",
       "    </tr>\n",
       "    <tr>\n",
       "      <th>20</th>\n",
       "      <td>2_addPlaylist_week</td>\n",
       "      <td>0.000000</td>\n",
       "    </tr>\n",
       "  </tbody>\n",
       "</table>\n",
       "</div>"
      ],
      "text/plain": [
       "               Feature  Importance_Score\n",
       "8      0_thumbsUp_week          0.189557\n",
       "5     addPlaylistCount          0.141839\n",
       "22         3_home_week          0.141377\n",
       "26       avgSessionLen          0.139268\n",
       "3        thumbsUpCount          0.121413\n",
       "7          0_home_week          0.106294\n",
       "9    0_addFriends_week          0.100147\n",
       "1            songCount          0.036161\n",
       "16        2_songs_week          0.023945\n",
       "20  2_addPlaylist_week          0.000000"
      ]
     },
     "execution_count": 150,
     "metadata": {},
     "output_type": "execute_result"
    }
   ],
   "source": [
    "Feature_Importance_Tree(dt_model)"
   ]
  },
  {
   "cell_type": "code",
   "execution_count": 162,
   "metadata": {},
   "outputs": [
    {
     "name": "stdout",
     "output_type": "stream",
     "text": [
      "Best maxDepth value: 5\n",
      "Best minInstancesPerNode value: 3\n",
      "Best impurity value: entropy\n"
     ]
    }
   ],
   "source": [
    "print(\"Best maxDepth value:\", dt_model.bestModel._java_obj.getMaxDepth())\n",
    "print(\"Best minInstancesPerNode value:\", dt_model.bestModel._java_obj.getMinInstancesPerNode())\n",
    "print(\"Best impurity value:\", dt_model.bestModel._java_obj.getImpurity())"
   ]
  },
  {
   "cell_type": "code",
   "execution_count": 152,
   "metadata": {},
   "outputs": [
    {
     "data": {
      "text/plain": [
       "\"cacheNodeIds: If false, the algorithm will pass trees to executors to match instances with nodes. If true, the algorithm will cache node IDs for each instance. Caching can speed up training of deeper trees. Users can set how often should the cache be checkpointed or disable it by setting checkpointInterval. (default: False)\\ncheckpointInterval: set checkpoint interval (>= 1) or disable checkpoint (-1). E.g. 10 means that the cache will get checkpointed every 10 iterations. Note: this setting will be ignored if the checkpoint directory is not set in the SparkContext. (default: 10)\\nfeatureSubsetStrategy: The number of features to consider for splits at each tree node. Supported options: 'auto' (choose automatically for task: If numTrees == 1, set to 'all'. If numTrees > 1 (forest), set to 'sqrt' for classification and to 'onethird' for regression), 'all' (use all features), 'onethird' (use 1/3 of the features), 'sqrt' (use sqrt(number of features)), 'log2' (use log2(number of features)), 'n' (when n is in the range (0, 1.0], use n * number of features. When n is in the range (1, number of features), use n features). default = 'auto' (default: auto)\\nfeaturesCol: features column name. (default: features)\\nimpurity: Criterion used for information gain calculation (case-insensitive). Supported options: entropy, gini (default: gini)\\nlabelCol: label column name. (default: label)\\nmaxBins: Max number of bins for discretizing continuous features.  Must be >=2 and >= number of categories for any categorical feature. (default: 32)\\nmaxDepth: Maximum depth of the tree. (>= 0) E.g., depth 0 means 1 leaf node; depth 1 means 1 internal node + 2 leaf nodes. (default: 5)\\nmaxMemoryInMB: Maximum memory in MB allocated to histogram aggregation. If too small, then 1 node will be split per iteration, and its aggregates may exceed this size. (default: 256)\\nminInfoGain: Minimum information gain for a split to be considered at a tree node. (default: 0.0)\\nminInstancesPerNode: Minimum number of instances each child must have after split. If a split causes the left or right child to have fewer than minInstancesPerNode, the split will be discarded as invalid. Should be >= 1. (default: 1)\\nnumTrees: Number of trees to train (>= 1). (default: 20)\\npredictionCol: prediction column name. (default: prediction)\\nprobabilityCol: Column name for predicted class conditional probabilities. Note: Not all models output well-calibrated probability estimates! These probabilities should be treated as confidences, not precise probabilities. (default: probability)\\nrawPredictionCol: raw prediction (a.k.a. confidence) column name. (default: rawPrediction)\\nseed: random seed. (default: -5642999255689052550)\\nsubsamplingRate: Fraction of the training data used for learning each decision tree, in range (0, 1]. (default: 1.0)\""
      ]
     },
     "execution_count": 152,
     "metadata": {},
     "output_type": "execute_result"
    }
   ],
   "source": [
    "RandomForestClassifier().explainParams()"
   ]
  },
  {
   "cell_type": "code",
   "execution_count": 154,
   "metadata": {},
   "outputs": [
    {
     "name": "stdout",
     "output_type": "stream",
     "text": [
      "Random forest training complete\n"
     ]
    }
   ],
   "source": [
    "RF = RandomForestClassifier(seed = 24)\n",
    "\n",
    "paramGrid = ParamGridBuilder().addGrid(RF.numTrees,[20,30])\\\n",
    "                              .addGrid(RF.impurity,[\"gini\",\"entropy\"])\\\n",
    "                              .addGrid(RF.minInstancesPerNode,[1,3])\\\n",
    "                              .build()\n",
    "\n",
    "crossval = CrossValidator(estimator=RF,\n",
    "                          estimatorParamMaps=paramGrid,\n",
    "                          evaluator=BinaryClassificationEvaluator(),\n",
    "                          numFolds=3,\n",
    "                          seed = 97) \n",
    "\n",
    "rf_model = crossval.fit(train)\n",
    "\n",
    "print(\"Random forest training complete\")"
   ]
  },
  {
   "cell_type": "code",
   "execution_count": 155,
   "metadata": {},
   "outputs": [],
   "source": [
    "rf_model.write().overwrite().save('RFModel.model')"
   ]
  },
  {
   "cell_type": "code",
   "execution_count": 156,
   "metadata": {},
   "outputs": [],
   "source": [
    "rf_model = CrossValidatorModel.load('RFModel.model')"
   ]
  },
  {
   "cell_type": "code",
   "execution_count": 157,
   "metadata": {},
   "outputs": [
    {
     "name": "stdout",
     "output_type": "stream",
     "text": [
      "RF  F1 score:  0.3\n",
      "RF  Accuracy:  0.72\n"
     ]
    }
   ],
   "source": [
    "ModelScores(rf_model,\"RF\")"
   ]
  },
  {
   "cell_type": "code",
   "execution_count": 158,
   "metadata": {},
   "outputs": [
    {
     "data": {
      "text/html": [
       "<div>\n",
       "<style scoped>\n",
       "    .dataframe tbody tr th:only-of-type {\n",
       "        vertical-align: middle;\n",
       "    }\n",
       "\n",
       "    .dataframe tbody tr th {\n",
       "        vertical-align: top;\n",
       "    }\n",
       "\n",
       "    .dataframe thead th {\n",
       "        text-align: right;\n",
       "    }\n",
       "</style>\n",
       "<table border=\"1\" class=\"dataframe\">\n",
       "  <thead>\n",
       "    <tr style=\"text-align: right;\">\n",
       "      <th></th>\n",
       "      <th>Feature</th>\n",
       "      <th>Importance_Score</th>\n",
       "    </tr>\n",
       "  </thead>\n",
       "  <tbody>\n",
       "    <tr>\n",
       "      <th>28</th>\n",
       "      <td>percIncreaseSong</td>\n",
       "      <td>0.079766</td>\n",
       "    </tr>\n",
       "    <tr>\n",
       "      <th>8</th>\n",
       "      <td>0_thumbsUp_week</td>\n",
       "      <td>0.070807</td>\n",
       "    </tr>\n",
       "    <tr>\n",
       "      <th>4</th>\n",
       "      <td>addFriendCount</td>\n",
       "      <td>0.061825</td>\n",
       "    </tr>\n",
       "    <tr>\n",
       "      <th>12</th>\n",
       "      <td>1_home_week</td>\n",
       "      <td>0.061035</td>\n",
       "    </tr>\n",
       "    <tr>\n",
       "      <th>11</th>\n",
       "      <td>1_songs_week</td>\n",
       "      <td>0.056010</td>\n",
       "    </tr>\n",
       "    <tr>\n",
       "      <th>1</th>\n",
       "      <td>songCount</td>\n",
       "      <td>0.051885</td>\n",
       "    </tr>\n",
       "    <tr>\n",
       "      <th>7</th>\n",
       "      <td>0_home_week</td>\n",
       "      <td>0.051680</td>\n",
       "    </tr>\n",
       "    <tr>\n",
       "      <th>6</th>\n",
       "      <td>0_songs_week</td>\n",
       "      <td>0.050271</td>\n",
       "    </tr>\n",
       "    <tr>\n",
       "      <th>22</th>\n",
       "      <td>3_home_week</td>\n",
       "      <td>0.042898</td>\n",
       "    </tr>\n",
       "    <tr>\n",
       "      <th>10</th>\n",
       "      <td>0_addPlaylist_week</td>\n",
       "      <td>0.040875</td>\n",
       "    </tr>\n",
       "  </tbody>\n",
       "</table>\n",
       "</div>"
      ],
      "text/plain": [
       "               Feature  Importance_Score\n",
       "28    percIncreaseSong          0.079766\n",
       "8      0_thumbsUp_week          0.070807\n",
       "4       addFriendCount          0.061825\n",
       "12         1_home_week          0.061035\n",
       "11        1_songs_week          0.056010\n",
       "1            songCount          0.051885\n",
       "7          0_home_week          0.051680\n",
       "6         0_songs_week          0.050271\n",
       "22         3_home_week          0.042898\n",
       "10  0_addPlaylist_week          0.040875"
      ]
     },
     "execution_count": 158,
     "metadata": {},
     "output_type": "execute_result"
    }
   ],
   "source": [
    "Feature_Importance_Tree(rf_model)"
   ]
  },
  {
   "cell_type": "code",
   "execution_count": 163,
   "metadata": {},
   "outputs": [
    {
     "name": "stdout",
     "output_type": "stream",
     "text": [
      "Best maxDepth value: 20\n",
      "Best minInstancesPerNode value: 1\n",
      "Best impurity value: entropy\n"
     ]
    }
   ],
   "source": [
    "print(\"Best maxDepth value:\", rf_model.bestModel._java_obj.getNumTrees())\n",
    "print(\"Best minInstancesPerNode value:\", rf_model.bestModel._java_obj.getMinInstancesPerNode())\n",
    "print(\"Best impurity value:\", rf_model.bestModel._java_obj.getImpurity())"
   ]
  }
 ],
 "metadata": {
  "kernelspec": {
   "display_name": "Python 3",
   "language": "python",
   "name": "python3"
  },
  "language_info": {
   "codemirror_mode": {
    "name": "ipython",
    "version": 3
   },
   "file_extension": ".py",
   "mimetype": "text/x-python",
   "name": "python",
   "nbconvert_exporter": "python",
   "pygments_lexer": "ipython3",
   "version": "3.6.3"
  }
 },
 "nbformat": 4,
 "nbformat_minor": 2
}
